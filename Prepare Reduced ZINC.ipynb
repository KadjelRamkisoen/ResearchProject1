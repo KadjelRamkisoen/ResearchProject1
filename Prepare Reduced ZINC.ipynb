{
 "cells": [
  {
   "cell_type": "code",
   "execution_count": 1,
   "metadata": {},
   "outputs": [
    {
     "name": "stderr",
     "output_type": "stream",
     "text": [
      "Using backend: pytorch\n"
     ]
    }
   ],
   "source": [
    "# Imports\n",
    "import pickle\n",
    "import time\n",
    "import WLColorRefinement.create_reduced_graph as crg\n",
    "import WLColorRefinement.WLColorRefinement as wl\n",
    "from data.molecules import MoleculeDataset"
   ]
  },
  {
   "cell_type": "code",
   "execution_count": 2,
   "metadata": {},
   "outputs": [
    {
     "name": "stdout",
     "output_type": "stream",
     "text": [
      "[I] Loading dataset ZINC...\n",
      "train, test, val sizes : 10000 1000 1000\n",
      "[I] Finished loading.\n",
      "[I] Data load time: 7.8137s\n"
     ]
    }
   ],
   "source": [
    "# Load Original ZINC dataset\n",
    "ZINC_original = MoleculeDataset('ZINC')"
   ]
  },
  {
   "cell_type": "code",
   "execution_count": 3,
   "metadata": {},
   "outputs": [
    {
     "name": "stderr",
     "output_type": "stream",
     "text": [
      "C:\\Users\\User1\\Documents\\GitHub\\ResearchProject1\\WLColorRefinement\\create_reduced_graph.py:323: UserWarning: To copy construct from a tensor, it is recommended to use sourceTensor.clone().detach() or sourceTensor.clone().detach().requires_grad_(True), rather than torch.tensor(sourceTensor).\n",
      "  reduced_graph.ndata['feat'] = torch.tensor(new_features)\n"
     ]
    }
   ],
   "source": [
    "# Reduce ZINC dataset and store in seperate lists\n",
    "ZINC_reduced_train = list()\n",
    "ZINC_reduced_test = list()\n",
    "ZINC_reduced_val = list()\n",
    "    \n",
    "for graph in ZINC_original.train:\n",
    "    graph[0].ndata['original_feat'] = graph[0].ndata['feat']\n",
    "    reduced_graph = crg.reduced_graph(wl.wl_coloring(graph[0]))\n",
    "    ZINC_reduced_train.append((reduced_graph, graph[1]))\n",
    "for graph in ZINC_original.test:\n",
    "    graph[0].ndata['original_feat'] = graph[0].ndata['feat']\n",
    "    reduced_graph = crg.reduced_graph(wl.wl_coloring(graph[0]))\n",
    "    ZINC_reduced_test.append((reduced_graph, graph[1]))\n",
    "for graph in ZINC_original.val:\n",
    "    graph[0].ndata['original_feat'] = graph[0].ndata['feat']\n",
    "    reduced_graph = crg.reduced_graph(wl.wl_coloring(graph[0]))\n",
    "    ZINC_reduced_val.append((reduced_graph, graph[1]))"
   ]
  },
  {
   "cell_type": "code",
   "execution_count": 4,
   "metadata": {},
   "outputs": [],
   "source": [
    "num_atom_type = ZINC_original.num_atom_type\n",
    "num_bond_type = ZINC_original.num_bond_type\n",
    "    \n",
    "with open('ZINC_reduced.pkl', 'wb') as f:\n",
    "    pickle.dump([ZINC_reduced_train, ZINC_reduced_val, ZINC_reduced_test, num_atom_type, num_bond_type], f)"
   ]
  },
  {
   "cell_type": "code",
   "execution_count": 5,
   "metadata": {},
   "outputs": [],
   "source": [
    "# dataset = MoleculeDataset('ZINC_reduced')"
   ]
  },
  {
   "cell_type": "code",
   "execution_count": 6,
   "metadata": {
    "scrolled": true
   },
   "outputs": [],
   "source": [
    "# graph = ZINC_original.train[0]\n",
    "# graph[0].ndata['original_feat'] = graph[0].ndata['feat']\n",
    "# reduced_graph = crg.reduced_graph(wl.wl_coloring(graph[0]))"
   ]
  },
  {
   "cell_type": "code",
   "execution_count": 7,
   "metadata": {
    "scrolled": false
   },
   "outputs": [],
   "source": [
    "# import networkx as nx\n",
    "# import matplotlib.pyplot as plt\n",
    "# # from networkx.drawing.nx_agraph import to_agraph\n",
    "\n",
    "# fig1 = plt.figure(figsize=(18,18))\n",
    "# plt.title(\"Original Graph\")\n",
    "    \n",
    "# F = reduced_graph\n",
    "# nx_F = F.to_networkx().to_undirected()\n",
    "# pos_F = nx.kamada_kawai_layout(nx_F)\n",
    "# nx.draw(nx_F, pos_F, with_labels=True)\n",
    "# # node_color=F.ndata['feat'][: ,0])\n",
    "\n",
    "# edict = {}\n",
    "# x = F.edges()[0]\n",
    "# y = F.edges()[1]\n",
    "# for i in range(len(F.edata['feat'])):\n",
    "#     edict[(int(x[i]), int(y[i]))] = int(F.edata['feat'][i])\n",
    "    \n",
    "# edgelist = list()\n",
    "# for i in edict:\n",
    "#     edgelist.append(i)\n",
    "    \n",
    "# # nx.draw_networkx_nodes(nx_F, pos_F)\n",
    "# nx.draw_networkx_edges(nx_F, pos_F)\n",
    "# # nx.draw_networkx_labels(nx_F, pos_F)\n",
    "# # nx.draw_networkx_edge_labels(F, pos_F, edge_labels = edict)\n",
    "\n",
    "# # plt.savefig(\"Graph\"+str(nr)+\".png\", format=\"PNG\")\n",
    "# plt.show()"
   ]
  },
  {
   "cell_type": "code",
   "execution_count": 8,
   "metadata": {},
   "outputs": [],
   "source": [
    "# print('Total super nodes ', nx_F.number_of_nodes())\n",
    "# print('Self loops')\n",
    "\n",
    "# for i in edict:\n",
    "#     if i[0] == i[1]:\n",
    "#         print(i, \" => \", edict[i])"
   ]
  },
  {
   "cell_type": "code",
   "execution_count": 9,
   "metadata": {},
   "outputs": [
    {
     "name": "stdout",
     "output_type": "stream",
     "text": [
      "28\n",
      "4\n"
     ]
    }
   ],
   "source": []
  },
  {
   "cell_type": "code",
   "execution_count": null,
   "metadata": {},
   "outputs": [],
   "source": []
  },
  {
   "cell_type": "code",
   "execution_count": null,
   "metadata": {},
   "outputs": [],
   "source": []
  },
  {
   "cell_type": "code",
   "execution_count": null,
   "metadata": {},
   "outputs": [],
   "source": []
  },
  {
   "cell_type": "code",
   "execution_count": null,
   "metadata": {},
   "outputs": [],
   "source": []
  },
  {
   "cell_type": "code",
   "execution_count": null,
   "metadata": {},
   "outputs": [],
   "source": []
  },
  {
   "cell_type": "code",
   "execution_count": null,
   "metadata": {},
   "outputs": [],
   "source": []
  },
  {
   "cell_type": "code",
   "execution_count": null,
   "metadata": {},
   "outputs": [],
   "source": []
  },
  {
   "cell_type": "code",
   "execution_count": null,
   "metadata": {},
   "outputs": [],
   "source": []
  }
 ],
 "metadata": {
  "kernelspec": {
   "display_name": "Python 3",
   "language": "python",
   "name": "python3"
  },
  "language_info": {
   "codemirror_mode": {
    "name": "ipython",
    "version": 3
   },
   "file_extension": ".py",
   "mimetype": "text/x-python",
   "name": "python",
   "nbconvert_exporter": "python",
   "pygments_lexer": "ipython3",
   "version": "3.8.3"
  }
 },
 "nbformat": 4,
 "nbformat_minor": 4
}
