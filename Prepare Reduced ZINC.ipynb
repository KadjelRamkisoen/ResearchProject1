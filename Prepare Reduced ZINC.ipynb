{
 "cells": [
  {
   "cell_type": "code",
   "execution_count": 1,
   "metadata": {},
   "outputs": [
    {
     "ename": "ModuleNotFoundError",
     "evalue": "No module named 'create_reduced_graph'",
     "output_type": "error",
     "traceback": [
      "\u001b[0;31m---------------------------------------------------------------------------\u001b[0m",
      "\u001b[0;31mModuleNotFoundError\u001b[0m                       Traceback (most recent call last)",
      "\u001b[0;32m<ipython-input-1-674bc6476b98>\u001b[0m in \u001b[0;36m<module>\u001b[0;34m\u001b[0m\n\u001b[1;32m      2\u001b[0m \u001b[0;32mimport\u001b[0m \u001b[0mpickle\u001b[0m\u001b[0;34m\u001b[0m\u001b[0;34m\u001b[0m\u001b[0m\n\u001b[1;32m      3\u001b[0m \u001b[0;32mimport\u001b[0m \u001b[0mtime\u001b[0m\u001b[0;34m\u001b[0m\u001b[0;34m\u001b[0m\u001b[0m\n\u001b[0;32m----> 4\u001b[0;31m \u001b[0;32mimport\u001b[0m \u001b[0mcreate_reduced_graph\u001b[0m \u001b[0;32mas\u001b[0m \u001b[0mcrg\u001b[0m\u001b[0;34m\u001b[0m\u001b[0;34m\u001b[0m\u001b[0m\n\u001b[0m\u001b[1;32m      5\u001b[0m \u001b[0;32mimport\u001b[0m \u001b[0mWLColorRefinement\u001b[0m \u001b[0;32mas\u001b[0m \u001b[0mwl\u001b[0m\u001b[0;34m\u001b[0m\u001b[0;34m\u001b[0m\u001b[0m\n\u001b[1;32m      6\u001b[0m \u001b[0;32mfrom\u001b[0m \u001b[0mdata\u001b[0m\u001b[0;34m.\u001b[0m\u001b[0mmolecules\u001b[0m \u001b[0;32mimport\u001b[0m \u001b[0mMoleculeDataset\u001b[0m\u001b[0;34m\u001b[0m\u001b[0;34m\u001b[0m\u001b[0m\n",
      "\u001b[0;31mModuleNotFoundError\u001b[0m: No module named 'create_reduced_graph'"
     ]
    }
   ],
   "source": [
    "# Imports\n",
    "import pickle\n",
    "import time\n",
    "import create_reduced_graph as crg\n",
    "import WLColorRefinement as wl\n",
    "from data.molecules import MoleculeDataset"
   ]
  },
  {
   "cell_type": "code",
   "execution_count": 3,
   "metadata": {},
   "outputs": [
    {
     "name": "stdout",
     "output_type": "stream",
     "text": [
      "[I] Loading dataset ZINC...\n",
      "train, test, val sizes : 10000 1000 1000\n",
      "[I] Finished loading.\n",
      "[I] Data load time: 7.6814s\n"
     ]
    }
   ],
   "source": [
    "# Load Original ZINC dataset\n",
    "ZINC_original = MoleculeDataset('ZINC')"
   ]
  },
  {
   "cell_type": "code",
   "execution_count": 48,
   "metadata": {},
   "outputs": [],
   "source": [
    "# Reduce ZINC dataset and store in seperate lists\n",
    "ZINC_reduced_train = list()\n",
    "ZINC_reduced_test = list()\n",
    "ZINC_reduced_val = list()\n",
    "    \n",
    "for graph in ZINC_original.train:\n",
    "    graph[0].ndata['original_feat'] = graph[0].ndata['feat']\n",
    "    reduced_graph = crg.reduced_graph(wl.wl_coloring(graph[0]))\n",
    "    ZINC_reduced_train.append((reduced_graph, graph[1]))\n",
    "for graph in ZINC_original.test:\n",
    "    graph[0].ndata['original_feat'] = graph[0].ndata['feat']\n",
    "    reduced_graph = crg.reduced_graph(wl.wl_coloring(graph[0]))\n",
    "    ZINC_reduced_test.append((reduced_graph, graph[1]))\n",
    "for graph in ZINC_original.val:\n",
    "    graph[0].ndata['original_feat'] = graph[0].ndata['feat']\n",
    "    reduced_graph = crg.reduced_graph(wl.wl_coloring(graph[0]))\n",
    "    ZINC_reduced_val.append((reduced_graph, graph[1]))"
   ]
  },
  {
   "cell_type": "code",
   "execution_count": 49,
   "metadata": {},
   "outputs": [],
   "source": [
    "num_atom_type = ZINC_original.num_atom_type\n",
    "num_bond_type = ZINC_original.num_bond_type\n",
    "    \n",
    "with open('ZINC_reduced.pkl', 'wb') as f:\n",
    "    pickle.dump([ZINC_reduced_train, ZINC_reduced_val, ZINC_reduced_test, num_atom_type, num_bond_type], f)"
   ]
  },
  {
   "cell_type": "code",
   "execution_count": 54,
   "metadata": {},
   "outputs": [
    {
     "name": "stdout",
     "output_type": "stream",
     "text": [
      "[I] Loading dataset ZINC_reduced...\n",
      "train, test, val sizes : 10000 1000 1000\n",
      "[I] Finished loading.\n",
      "[I] Data load time: 8.0387s\n"
     ]
    }
   ],
   "source": [
    "dataset = MoleculeDataset('ZINC_reduced')"
   ]
  },
  {
   "cell_type": "code",
   "execution_count": null,
   "metadata": {},
   "outputs": [],
   "source": []
  }
 ],
 "metadata": {
  "kernelspec": {
   "display_name": "Python 3",
   "language": "python",
   "name": "python3"
  },
  "language_info": {
   "codemirror_mode": {
    "name": "ipython",
    "version": 3
   },
   "file_extension": ".py",
   "mimetype": "text/x-python",
   "name": "python",
   "nbconvert_exporter": "python",
   "pygments_lexer": "ipython3",
   "version": "3.7.6"
  }
 },
 "nbformat": 4,
 "nbformat_minor": 4
}
