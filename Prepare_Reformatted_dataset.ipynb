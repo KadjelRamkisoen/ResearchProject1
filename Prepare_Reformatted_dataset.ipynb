{
 "cells": [
  {
   "cell_type": "code",
   "execution_count": 15,
   "metadata": {},
   "outputs": [],
   "source": [
    "from data.data import LoadData\n",
    "import torch\n",
    "import pickle\n",
    "import time"
   ]
  },
  {
   "cell_type": "code",
   "execution_count": 18,
   "metadata": {},
   "outputs": [],
   "source": [
    "def prepare_original_reformatted_dataset(dataset):\n",
    "    for i,graph in enumerate(dataset.train):\n",
    "        new_features = torch.zeros((graph[0].number_of_nodes(),28))\n",
    "        for j in range(graph[0].number_of_nodes()): \n",
    "            new_feature = torch.zeros(28)\n",
    "            atom_type = int(graph[0].ndata['feat'][j].item())\n",
    "            new_feature[atom_type] = 1\n",
    "            new_features[j] = new_feature\n",
    "        graph[0].ndata['feat'] = new_features     \n",
    "    for i,graph in enumerate(dataset.test):\n",
    "        new_features = torch.zeros((graph[0].number_of_nodes(),28))\n",
    "        for j in range(graph[0].number_of_nodes()): \n",
    "            new_feature = torch.zeros(28)\n",
    "            atom_type = int(graph[0].ndata['feat'][j].item())\n",
    "            new_feature[atom_type] = 1\n",
    "            new_features[j] = new_feature\n",
    "        graph[0].ndata['feat'] = new_features\n",
    "    for i,graph in enumerate(dataset.val):\n",
    "        new_features = torch.zeros((graph[0].number_of_nodes(),28))\n",
    "        for j in range(graph[0].number_of_nodes()): \n",
    "            new_feature = torch.zeros(28)\n",
    "            atom_type = int(graph[0].ndata['feat'][j].item())\n",
    "            new_feature[atom_type] = 1\n",
    "            new_features[j] = new_feature\n",
    "        graph[0].ndata['feat'] = new_features\n",
    "    return dataset\n",
    "\n",
    "def prepare_reduced_reformatted_dataset(dataset):\n",
    "    for i,graph in enumerate(dataset.train):\n",
    "        new_features = torch.zeros((graph[0].number_of_nodes(),29))\n",
    "        for j in range(graph[0].number_of_nodes()): \n",
    "            new_feature = torch.zeros(29)\n",
    "            atom_type = int(graph[0].ndata['feat'][j][0].item())\n",
    "            new_feature[atom_type] = 1\n",
    "            new_feature[28] = graph[0].ndata['feat'][j][1]\n",
    "            new_features[j] = new_feature\n",
    "        graph[0].ndata['feat'] = new_features     \n",
    "    for i,graph in enumerate(dataset.test):\n",
    "        new_features = torch.zeros((graph[0].number_of_nodes(),29))\n",
    "        for j in range(graph[0].number_of_nodes()): \n",
    "            new_feature = torch.zeros(29)\n",
    "            atom_type = int(graph[0].ndata['feat'][j][0].item())\n",
    "            new_feature[atom_type] = 1\n",
    "            new_feature[28] = graph[0].ndata['feat'][j][1]\n",
    "            new_features[j] = new_feature\n",
    "        graph[0].ndata['feat'] = new_features\n",
    "    for i,graph in enumerate(dataset.val):\n",
    "        new_features = torch.zeros((graph[0].number_of_nodes(),29))\n",
    "        for j in range(graph[0].number_of_nodes()): \n",
    "            new_feature = torch.zeros(29)\n",
    "            atom_type = int(graph[0].ndata['feat'][j][0].item())\n",
    "            new_feature[atom_type] = 1\n",
    "            new_feature[28] = graph[0].ndata['feat'][j][1]\n",
    "            new_features[j] = new_feature\n",
    "        graph[0].ndata['feat'] = new_features\n",
    "    return dataset"
   ]
  },
  {
   "cell_type": "code",
   "execution_count": 19,
   "metadata": {},
   "outputs": [
    {
     "data": {
      "text/plain": [
       "tensor([[1., 0., 0., 0., 0., 0., 0., 0., 0., 0., 0., 0., 0., 0., 0., 0., 0., 0.,\n",
       "         0., 0., 0., 0., 0., 0., 0., 0., 0., 0., 1.],\n",
       "        [0., 0., 0., 0., 1., 0., 0., 0., 0., 0., 0., 0., 0., 0., 0., 0., 0., 0.,\n",
       "         0., 0., 0., 0., 0., 0., 0., 0., 0., 0., 1.],\n",
       "        [0., 0., 1., 0., 0., 0., 0., 0., 0., 0., 0., 0., 0., 0., 0., 0., 0., 0.,\n",
       "         0., 0., 0., 0., 0., 0., 0., 0., 0., 0., 1.],\n",
       "        [1., 0., 0., 0., 0., 0., 0., 0., 0., 0., 0., 0., 0., 0., 0., 0., 0., 0.,\n",
       "         0., 0., 0., 0., 0., 0., 0., 0., 0., 0., 1.],\n",
       "        [0., 1., 0., 0., 0., 0., 0., 0., 0., 0., 0., 0., 0., 0., 0., 0., 0., 0.,\n",
       "         0., 0., 0., 0., 0., 0., 0., 0., 0., 0., 1.],\n",
       "        [0., 0., 1., 0., 0., 0., 0., 0., 0., 0., 0., 0., 0., 0., 0., 0., 0., 0.,\n",
       "         0., 0., 0., 0., 0., 0., 0., 0., 0., 0., 1.],\n",
       "        [0., 0., 1., 0., 0., 0., 0., 0., 0., 0., 0., 0., 0., 0., 0., 0., 0., 0.,\n",
       "         0., 0., 0., 0., 0., 0., 0., 0., 0., 0., 1.],\n",
       "        [1., 0., 0., 0., 0., 0., 0., 0., 0., 0., 0., 0., 0., 0., 0., 0., 0., 0.,\n",
       "         0., 0., 0., 0., 0., 0., 0., 0., 0., 0., 1.],\n",
       "        [1., 0., 0., 0., 0., 0., 0., 0., 0., 0., 0., 0., 0., 0., 0., 0., 0., 0.,\n",
       "         0., 0., 0., 0., 0., 0., 0., 0., 0., 0., 1.],\n",
       "        [1., 0., 0., 0., 0., 0., 0., 0., 0., 0., 0., 0., 0., 0., 0., 0., 0., 0.,\n",
       "         0., 0., 0., 0., 0., 0., 0., 0., 0., 0., 1.],\n",
       "        [1., 0., 0., 0., 0., 0., 0., 0., 0., 0., 0., 0., 0., 0., 0., 0., 0., 0.,\n",
       "         0., 0., 0., 0., 0., 0., 0., 0., 0., 0., 1.],\n",
       "        [0., 0., 1., 0., 0., 0., 0., 0., 0., 0., 0., 0., 0., 0., 0., 0., 0., 0.,\n",
       "         0., 0., 0., 0., 0., 0., 0., 0., 0., 0., 1.],\n",
       "        [1., 0., 0., 0., 0., 0., 0., 0., 0., 0., 0., 0., 0., 0., 0., 0., 0., 0.,\n",
       "         0., 0., 0., 0., 0., 0., 0., 0., 0., 0., 1.],\n",
       "        [1., 0., 0., 0., 0., 0., 0., 0., 0., 0., 0., 0., 0., 0., 0., 0., 0., 0.,\n",
       "         0., 0., 0., 0., 0., 0., 0., 0., 0., 0., 1.],\n",
       "        [1., 0., 0., 0., 0., 0., 0., 0., 0., 0., 0., 0., 0., 0., 0., 0., 0., 0.,\n",
       "         0., 0., 0., 0., 0., 0., 0., 0., 0., 0., 1.],\n",
       "        [0., 0., 1., 0., 0., 0., 0., 0., 0., 0., 0., 0., 0., 0., 0., 0., 0., 0.,\n",
       "         0., 0., 0., 0., 0., 0., 0., 0., 0., 0., 1.],\n",
       "        [0., 0., 1., 0., 0., 0., 0., 0., 0., 0., 0., 0., 0., 0., 0., 0., 0., 0.,\n",
       "         0., 0., 0., 0., 0., 0., 0., 0., 0., 0., 1.],\n",
       "        [0., 0., 1., 0., 0., 0., 0., 0., 0., 0., 0., 0., 0., 0., 0., 0., 0., 0.,\n",
       "         0., 0., 0., 0., 0., 0., 0., 0., 0., 0., 1.],\n",
       "        [1., 0., 0., 0., 0., 0., 0., 0., 0., 0., 0., 0., 0., 0., 0., 0., 0., 0.,\n",
       "         0., 0., 0., 0., 0., 0., 0., 0., 0., 0., 1.],\n",
       "        [1., 0., 0., 0., 0., 0., 0., 0., 0., 0., 0., 0., 0., 0., 0., 0., 0., 0.,\n",
       "         0., 0., 0., 0., 0., 0., 0., 0., 0., 0., 1.],\n",
       "        [1., 0., 0., 0., 0., 0., 0., 0., 0., 0., 0., 0., 0., 0., 0., 0., 0., 0.,\n",
       "         0., 0., 0., 0., 0., 0., 0., 0., 0., 0., 1.],\n",
       "        [1., 0., 0., 0., 0., 0., 0., 0., 0., 0., 0., 0., 0., 0., 0., 0., 0., 0.,\n",
       "         0., 0., 0., 0., 0., 0., 0., 0., 0., 0., 1.],\n",
       "        [1., 0., 0., 0., 0., 0., 0., 0., 0., 0., 0., 0., 0., 0., 0., 0., 0., 0.,\n",
       "         0., 0., 0., 0., 0., 0., 0., 0., 0., 0., 1.],\n",
       "        [1., 0., 0., 0., 0., 0., 0., 0., 0., 0., 0., 0., 0., 0., 0., 0., 0., 0.,\n",
       "         0., 0., 0., 0., 0., 0., 0., 0., 0., 0., 1.],\n",
       "        [1., 0., 0., 0., 0., 0., 0., 0., 0., 0., 0., 0., 0., 0., 0., 0., 0., 0.,\n",
       "         0., 0., 0., 0., 0., 0., 0., 0., 0., 0., 1.],\n",
       "        [0., 0., 0., 1., 0., 0., 0., 0., 0., 0., 0., 0., 0., 0., 0., 0., 0., 0.,\n",
       "         0., 0., 0., 0., 0., 0., 0., 0., 0., 0., 3.]])"
      ]
     },
     "execution_count": 19,
     "metadata": {},
     "output_type": "execute_result"
    }
   ],
   "source": [
    "dataset = LoadData(\"ZINC\")"
   ]
  },
  {
   "cell_type": "code",
   "execution_count": null,
   "metadata": {},
   "outputs": [],
   "source": [
    "dataset = prepare_reduced_reformatted_dataset(dataset)\n",
    "# dataset = prepare_original_reformatted_dataset(dataset)\n"
   ]
  },
  {
   "cell_type": "code",
   "execution_count": 20,
   "metadata": {},
   "outputs": [],
   "source": [
    "num_atom_type = dataset.num_atom_type\n",
    "num_bond_type = dataset.num_bond_type\n",
    "    \n",
    "with open('data/molecules/ZINC_reduced_b.pkl', 'wb') as f:\n",
    "    pickle.dump([dataset.train, dataset.val, dataset.test, num_atom_type, num_bond_type], f)"
   ]
  },
  {
   "cell_type": "code",
   "execution_count": null,
   "metadata": {},
   "outputs": [],
   "source": [
    "num_atom_type = dataset.num_atom_type\n",
    "num_bond_type = dataset.num_bond_type\n",
    "    \n",
    "with open('data/molecules/ZINC_original_b.pkl', 'wb') as f:\n",
    "    pickle.dump([dataset.train, dataset.val, dataset.test, num_atom_type, num_bond_type], f)"
   ]
  }
 ],
 "metadata": {
  "kernelspec": {
   "display_name": "Python 3",
   "language": "python",
   "name": "python3"
  },
  "language_info": {
   "codemirror_mode": {
    "name": "ipython",
    "version": 3
   },
   "file_extension": ".py",
   "mimetype": "text/x-python",
   "name": "python",
   "nbconvert_exporter": "python",
   "pygments_lexer": "ipython3",
   "version": "3.8.3"
  }
 },
 "nbformat": 4,
 "nbformat_minor": 4
}
