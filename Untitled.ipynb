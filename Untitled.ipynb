{
 "cells": [
  {
   "cell_type": "code",
   "execution_count": 1,
   "metadata": {},
   "outputs": [
    {
     "name": "stderr",
     "output_type": "stream",
     "text": [
      "Using backend: pytorch\n"
     ]
    }
   ],
   "source": [
    "import networkx as nx\n",
    "import numpy as np\n",
    "import pickle\n",
    "from pathlib import Path\n",
    "import os\n",
    "import torch\n",
    "import time\n",
    "import dgl\n",
    "\n",
    "from data.data import LoadData"
   ]
  },
  {
   "cell_type": "code",
   "execution_count": 56,
   "metadata": {},
   "outputs": [],
   "source": [
    "import csv\n",
    "import pandas as pd\n",
    "import matplotlib.pyplot as plt\n",
    "\n",
    "def store_reduction_data(file, original_graphs, reduced_graphs):\n",
    "    i = 0\n",
    "    total_node_compr_rate = 0\n",
    "    total_edge_compr_rate = 0\n",
    "    total_graph_reduction = 0\n",
    "    with open(file, mode='w') as csv_file:\n",
    "        writer = csv.writer(csv_file)\n",
    "        fieldnames = ['Graph nr', \n",
    "                      'Original nodes', 'Reduced nodes', 'Node compr. rate', \n",
    "                      'Original edges', 'Reduced edges', 'Non zero edges', 'Edge compr. rate', 'Total graph compr'\n",
    "                     ]\n",
    "        writer = csv.writer(csv_file)\n",
    "        writer.writerow(fieldnames)\n",
    "\n",
    "        while i < len(reduced_graphs):\n",
    "            x = original_graphs.__getitem__(i)[0]\n",
    "            y = reduced_graphs[i][0]\n",
    "\n",
    "            # edges to consider are the ones with weight not zero\n",
    "            number_of_edges_reduced_graph = 0\n",
    "            for e_feat in y.edata['feat']:\n",
    "                if e_feat!= 0:\n",
    "                    number_of_edges_reduced_graph += 1\n",
    "                    \n",
    "            node_compr_rate = round((((x.number_of_nodes() - y.number_of_nodes())/x.number_of_nodes())*100),2)\n",
    "            edge_compr_rate = round((((x.number_of_edges() - number_of_edges_reduced_graph)/x.number_of_edges())*100),2)\n",
    "            graph_reduction = node_compr_rate + edge_compr_rate\n",
    "            \n",
    "            total_node_compr_rate += node_compr_rate\n",
    "            total_edge_compr_rate += edge_compr_rate\n",
    "            total_graph_reduction += graph_reduction\n",
    "            writer.writerow([i,x.number_of_nodes(), \n",
    "                             y.number_of_nodes(), \n",
    "                             node_compr_rate,\n",
    "                             x.number_of_edges(), \n",
    "                             y.number_of_edges(),\n",
    "                             number_of_edges_reduced_graph,\n",
    "                             edge_compr_rate,\n",
    "                             graph_reduction\n",
    "                            ])\n",
    "\n",
    "            i += 1\n",
    "    print('number of graphs = ', i)\n",
    "    print('Avg node compr rate = ', total_node_compr_rate/i)\n",
    "    print('Avg edge compr rate = ', total_edge_compr_rate/i)\n",
    "    print('Avg graph compr rate = ', total_graph_reduction/i)\n",
    "    return total_node_compr_rate, total_edge_compr_rate, total_graph_reduction\n",
    "\n",
    "def create_plot(df):\n",
    "    print('Analysis')\n",
    "    print('\\n')\n",
    "    \n",
    "    graph = df[df.columns[8]]\n",
    "#     edge = df[df.columns[6]]\n",
    "\n",
    "    graph.plot.hist(grid=True, bins=20, rwidth=0.9)\n",
    "    plt.legend()"
   ]
  },
  {
   "cell_type": "code",
   "execution_count": 31,
   "metadata": {},
   "outputs": [
    {
     "name": "stdout",
     "output_type": "stream",
     "text": [
      "[I] Loading dataset ZINC...\n",
      "train, test, val sizes : 10000 1000 1000\n",
      "[I] Finished loading.\n",
      "[I] Data load time: 9.0804s\n",
      "[I] Loading dataset ZINC_reduced...\n",
      "train, test, val sizes : 10000 1000 1000\n",
      "[I] Finished loading.\n",
      "[I] Data load time: 6.8972s\n"
     ]
    }
   ],
   "source": [
    "ZINC_graphs = LoadData('ZINC')\n",
    "\n",
    "ZINC_reduced_graphs = LoadData('ZINC_reduced')"
   ]
  },
  {
   "cell_type": "code",
   "execution_count": 57,
   "metadata": {},
   "outputs": [
    {
     "name": "stdout",
     "output_type": "stream",
     "text": [
      "number of graphs =  10000\n",
      "Avg node compr rate =  8.529451999999894\n",
      "Avg edge compr rate =  10.677842999999818\n",
      "Avg graph compr rate =  19.207294999999817\n"
     ]
    }
   ],
   "source": [
    "total_node_compr_rate = 0\n",
    "total_edge_compr_rate = 0\n",
    "total_graph_reduction = 0\n",
    "\n",
    "a,b,c = store_reduction_data('CompressionZINC_train.csv', ZINC_graphs.train, ZINC_reduced_graphs.train)\n",
    "\n",
    "total_node_compr_rate += a\n",
    "total_edge_compr_rate += b\n",
    "total_graph_reduction += c"
   ]
  },
  {
   "cell_type": "code",
   "execution_count": 58,
   "metadata": {},
   "outputs": [
    {
     "name": "stdout",
     "output_type": "stream",
     "text": [
      "number of graphs =  1000\n",
      "Avg node compr rate =  8.71337000000001\n",
      "Avg edge compr rate =  10.847430000000013\n",
      "Avg graph compr rate =  19.560799999999997\n"
     ]
    }
   ],
   "source": [
    "\n",
    "x,y,z = store_reduction_data('CompressionZINC_test.csv', ZINC_graphs.test, ZINC_reduced_graphs.test)\n",
    "\n",
    "total_node_compr_rate += x\n",
    "total_edge_compr_rate += y\n",
    "total_graph_reduction += z"
   ]
  },
  {
   "cell_type": "code",
   "execution_count": 59,
   "metadata": {},
   "outputs": [
    {
     "name": "stdout",
     "output_type": "stream",
     "text": [
      "number of graphs =  1000\n",
      "Avg node compr rate =  8.828490000000018\n",
      "Avg edge compr rate =  11.09686000000001\n",
      "Avg graph compr rate =  19.925350000000016\n"
     ]
    }
   ],
   "source": [
    "p,q,r = store_reduction_data('CompressionZINC_val.csv', ZINC_graphs.val, ZINC_reduced_graphs.val)\n",
    "\n",
    "total_node_compr_rate += p\n",
    "total_edge_compr_rate += q\n",
    "total_graph_reduction += r"
   ]
  },
  {
   "cell_type": "code",
   "execution_count": 49,
   "metadata": {},
   "outputs": [
    {
     "name": "stdout",
     "output_type": "stream",
     "text": [
      "Analysis\n",
      "\n",
      "\n"
     ]
    },
    {
     "data": {
      "image/png": "[encoded data removed]",
      "text/plain": [
       "<Figure size 432x288 with 1 Axes>"
      ]
     },
     "metadata": {
      "needs_background": "light"
     },
     "output_type": "display_data"
    }
   ],
   "source": [
    "create_plot(pd.read_csv (r'CompressionZINC_test.csv'))"
   ]
  },
  {
   "cell_type": "code",
   "execution_count": 61,
   "metadata": {},
   "outputs": [
    {
     "name": "stdout",
     "output_type": "stream",
     "text": [
      "102836.37999999897 128722.71999999821 231559.09999999817\n",
      "8.569698333333248 10.726893333333184 19.296591666666515\n"
     ]
    }
   ],
   "source": [
    "print(\n",
    "total_node_compr_rate,\n",
    "total_edge_compr_rate,\n",
    "total_graph_reduction,)\n",
    "\n",
    "print(\n",
    "total_node_compr_rate/12000,\n",
    "total_edge_compr_rate/12000,\n",
    "total_graph_reduction/12000,)"
   ]
  },
  {
   "cell_type": "code",
   "execution_count": 28,
   "metadata": {},
   "outputs": [
    {
     "name": "stdout",
     "output_type": "stream",
     "text": [
      "34\n"
     ]
    }
   ],
   "source": [
    "print(number_of_nodes_reduced_graph)"
   ]
  },
  {
   "cell_type": "code",
   "execution_count": 29,
   "metadata": {},
   "outputs": [
    {
     "name": "stdout",
     "output_type": "stream",
     "text": [
      "50\n"
     ]
    }
   ],
   "source": [
    "print(len(y.edata['feat']))"
   ]
  },
  {
   "cell_type": "code",
   "execution_count": null,
   "metadata": {},
   "outputs": [],
   "source": []
  }
 ],
 "metadata": {
  "kernelspec": {
   "display_name": "Python 3",
   "language": "python",
   "name": "python3"
  },
  "language_info": {
   "codemirror_mode": {
    "name": "ipython",
    "version": 3
   },
   "file_extension": ".py",
   "mimetype": "text/x-python",
   "name": "python",
   "nbconvert_exporter": "python",
   "pygments_lexer": "ipython3",
   "version": "3.8.3"
  }
 },
 "nbformat": 4,
 "nbformat_minor": 4
}
