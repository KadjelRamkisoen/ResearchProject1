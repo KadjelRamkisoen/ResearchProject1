{
 "cells": [
  {
   "cell_type": "code",
   "execution_count": 1,
   "metadata": {},
   "outputs": [
    {
     "name": "stderr",
     "output_type": "stream",
     "text": [
      "Using backend: pytorch\n"
     ]
    }
   ],
   "source": [
    "from data.molecules import MoleculeDatasetDGL\n",
    "from data.superpixels import SuperPixDatasetDGL\n",
    "from data.SBMs import SBMsDatasetDGL\n",
    "from data.TSP import TSPDatasetDGL\n",
    "\n",
    "import os\n",
    "import pickle"
   ]
  },
  {
   "cell_type": "code",
   "execution_count": 2,
   "metadata": {},
   "outputs": [],
   "source": [
    "class DotDict(dict):\n",
    "    def __init__(self, **kwds):\n",
    "        self.update(kwds)\n",
    "        self.__dict__ = self   "
   ]
  },
  {
   "cell_type": "code",
   "execution_count": 3,
   "metadata": {},
   "outputs": [],
   "source": [
    "working_dir = 'C:\\\\Users\\\\User1\\\\Documents\\\\GitHub\\\\ResearchProject1\\\\WLColorRefinement'\n",
    "\n",
    "def download_molecules(to_dir):\n",
    "    os.chdir(to_dir)\n",
    "    if not os.path.isfile('molecules.zip'):\n",
    "        print('downloading..')\n",
    "        !curl https://www.dropbox.com/s/feo9qle74kg48gy/molecules.zip?dl=1 -o molecules.zip -J -L -k\n",
    "        !tar -xvf molecules.zip -C ./\n",
    "    else:\n",
    "        print('File already downloaded')\n",
    "        \n",
    "    if not os.path.isfile('ZINC.pkl'):\n",
    "        ZINC_graphs = MoleculeDatasetDGL('ZINC')\n",
    "        with open('C:\\\\Users\\\\User1\\\\Documents\\\\GitHub\\\\ResearchProject1\\\\WLColorRefinement\\\\data\\\\molecules\\\\ZINC.pkl','wb') as f:\n",
    "            pickle.dump([ZINC_graphs.train,ZINC_graphs.val,ZINC_graphs.test], f)\n",
    "    os.chdir(working_dir)\n",
    "\n",
    "    \n",
    "def download_CIFAR(to_dir):\n",
    "    os.chdir(to_dir)\n",
    "    if not os.path.isfile('superpixels.zip'):\n",
    "        print('downloading..')\n",
    "        !curl https://www.dropbox.com/s/y2qwa77a0fxem47/superpixels.zip?dl=1 -o superpixels.zip -J -L -k\n",
    "        !tar -xvf superpixels.zip -C ./\n",
    "    else:\n",
    "        print('File already downloaded')\n",
    "        \n",
    "    if not os.path.isfile('CIFAR10.pkl'):\n",
    "        CIFAR10_graphs = SuperPixDatasetDGL('CIFAR10')\n",
    "        with open('C:\\\\Users\\\\User1\\\\Documents\\\\GitHub\\\\ResearchProject1\\\\WLColorRefinement\\\\data\\\\superpixels\\\\CIFAR10.pkl','wb') as f:\n",
    "            pickle.dump([CIFAR10_graphs.train,CIFAR10_graphs.test, CIFAR10_graphs.test],f)\n",
    "    os.chdir(working_dir)\n",
    "\n",
    "    \n",
    "def download_MNIST(to_dir):\n",
    "    os.chdir(to_dir)\n",
    "    if not os.path.isfile('superpixels.zip'):\n",
    "        print('downloading..')\n",
    "        !curl https://www.dropbox.com/s/y2qwa77a0fxem47/superpixels.zip?dl=1 -o superpixels.zip -J -L -k\n",
    "        !tar -xvf superpixels.zip -C ./\n",
    "    else:\n",
    "        print('File already downloaded')\n",
    "    \n",
    "    if not os.path.isfile('MNIST.pkl'):\n",
    "        MNIST_graphs = SuperPixDatasetDGL('MNIST')\n",
    "        with open('C:\\\\Users\\\\User1\\\\Documents\\\\GitHub\\\\ResearchProject1\\\\WLColorRefinement\\\\data\\\\superpixels\\\\MNIST.pkl','wb') as f:\n",
    "            pickle.dump([MNIST_graphs.train,MNIST_graphs.val,MNIST_graphs.test],f)\n",
    "    os.chdir(working_dir)\n",
    "    \n",
    "    \n",
    "def download_MNIST(to_dir):\n",
    "    os.chdir(to_dir)\n",
    "    if not os.path.isfile('superpixels.zip'):\n",
    "        print('downloading..')\n",
    "        !curl https://www.dropbox.com/s/y2qwa77a0fxem47/superpixels.zip?dl=1 -o superpixels.zip -J -L -k\n",
    "        !tar -xvf superpixels.zip -C ./\n",
    "    else:\n",
    "        print('File already downloaded')\n",
    "    \n",
    "    if not os.path.isfile('MNIST.pkl'):\n",
    "        MNIST_graphs = SuperPixDatasetDGL('MNIST')\n",
    "        with open('C:\\\\Users\\\\User1\\\\Documents\\\\GitHub\\\\ResearchProject1\\\\WLColorRefinement\\\\data\\\\superpixels\\\\MNIST.pkl','wb') as f:\n",
    "            pickle.dump([MNIST_graphs.train,MNIST_graphs.val,MNIST_graphs.test],f)\n",
    "    os.chdir(working_dir)\n",
    "    \n",
    "    \n",
    "def download_SBM(to_dir):\n",
    "    os.chdir(to_dir)\n",
    "    if not os.path.isfile('SBM_CLUSTER.zip'):\n",
    "        print('downloading..')\n",
    "        !curl https://www.dropbox.com/s/e67bisl7zpqnioq/SBM_CLUSTER.zip?dl=1 -o SBM_CLUSTER.zip -J -L -k\n",
    "        !tar -xvf superpixels.zip -C ./\n",
    "    else:\n",
    "        print('File already downloaded')\n",
    "        \n",
    "    if not os.path.isfile('SBM_CLUSTER.pkl'):\n",
    "        SBM_CLUSTER_graphs = SuperPixDatasetDGL('SBM_CLUSTER')\n",
    "        with open('C:\\\\Users\\\\User1\\\\Documents\\\\GitHub\\\\ResearchProject1\\\\WLColorRefinement\\\\data\\\\superpixels\\\\SBM_CLUSTER.pkl','wb') as f:\n",
    "            pickle.dump([SBM_CLUSTER_graphs.train,SBM_CLUSTER_graphs.val,SBM_CLUSTER_graphs.test],f)\n",
    "    os.chdir(working_dir)\n",
    "    \n",
    "    \n",
    "def download_TSP(to_dir):\n",
    "    os.chdir(to_dir)\n",
    "    if not os.path.isfile('TSP.zip'):\n",
    "        print('downloading..')\n",
    "        !curl https://www.dropbox.com/s/1wf6zn5nq7qjg0e/TSP.zip?dl=1 -o TSP.zip -J -L -k\n",
    "        !tar -xvf TSP.zip -C ./\n",
    "    else:\n",
    "        print('File already downloaded')\n",
    "        \n",
    "    if not os.path.isfile('TSP.pkl'):\n",
    "        TSP_graphs = TSPDatasetDGL('TSP')\n",
    "        with open('C:\\\\Users\\\\User1\\\\Documents\\\\GitHub\\\\ResearchProject1\\\\WLColorRefinement\\\\data\\\\TSP\\\\TSP.pkl','wb') as f:\n",
    "            pickle.dump([TSP_graphs.train,TSP_graphs.val,TSP_graphs.test],f)\n",
    "    else:\n",
    "        print('Dump already created')\n",
    "    os.chdir(working_dir)"
   ]
  },
  {
   "cell_type": "code",
   "execution_count": 7,
   "metadata": {},
   "outputs": [
    {
     "name": "stdout",
     "output_type": "stream",
     "text": [
      "File already downloaded\n",
      "preparing 10000 graphs for the TRAIN set...\n"
     ]
    },
    {
     "name": "stderr",
     "output_type": "stream",
     "text": [
      "C:\\Users\\User1\\Documents\\GitHub\\ResearchProject1\\WLColorRefinement\\data\\molecules.py:61: UserWarning: This overload of nonzero is deprecated:\n",
      "\tnonzero()\n",
      "Consider using one of the following signatures instead:\n",
      "\tnonzero(*, bool as_tuple) (Triggered internally at  ..\\torch\\csrc\\utils\\python_arg_parser.cpp:882.)\n",
      "  edge_list = (adj != 0).nonzero()  # converting adj matrix to edge_list\n",
      "C:\\Users\\User1\\anaconda3\\lib\\site-packages\\dgl\\base.py:45: DGLWarning: Recommend creating graphs by `dgl.graph(data)` instead of `dgl.DGLGraph(data)`.\n",
      "  return warnings.warn(message, category=category, stacklevel=1)\n"
     ]
    },
    {
     "name": "stdout",
     "output_type": "stream",
     "text": [
      "preparing 1000 graphs for the VAL set...\n",
      "preparing 1000 graphs for the TEST set...\n",
      "Time taken: 455.3427s\n"
     ]
    }
   ],
   "source": [
    "download_molecules('C:\\\\Users\\\\User1\\\\Documents\\\\GitHub\\\\ResearchProject1\\\\WLColorRefinement\\\\data\\\\molecules')\n",
    "# download_CIFAR10('C:\\\\Users\\\\User1\\\\Documents\\\\GitHub\\\\ResearchProject1\\\\WLColorRefinement\\\\data\\\\superpixels')\n",
    "# download_MNIST('C:\\\\Users\\\\User1\\\\Documents\\\\GitHub\\\\ResearchProject1\\\\WLColorRefinement\\\\data\\\\superpixels')\n",
    "# download_TSP('C:\\\\Users\\\\User1\\\\Documents\\\\GitHub\\\\ResearchProject1\\\\WLColorRefinement\\\\data\\\\TSP')"
   ]
  },
  {
   "cell_type": "code",
   "execution_count": 4,
   "metadata": {},
   "outputs": [
    {
     "name": "stdout",
     "output_type": "stream",
     "text": [
      "downloading..\n"
     ]
    },
    {
     "name": "stderr",
     "output_type": "stream",
     "text": [
      "  % Total    % Received % Xferd  Average Speed   Time    Time     Time  Current\n",
      "                                 Dload  Upload   Total   Spent    Left  Speed\n",
      "\n",
      "  0     0    0     0    0     0      0      0 --:--:-- --:--:-- --:--:--     0\n",
      "  0     0    0     0    0     0      0      0 --:--:-- --:--:-- --:--:--     0\n",
      "\n",
      "  0     0    0     0    0     0      0      0 --:--:-- --:--:-- --:--:--     0\n",
      "  0     0    0     0    0     0      0      0 --:--:-- --:--:-- --:--:--     0\n",
      "\n",
      "  0     0    0     0    0     0      0      0 --:--:--  0:00:01 --:--:--     0\n",
      "  7 61.7M    7 4791k    0     0  1831k      0  0:00:34  0:00:02  0:00:32 5878k\n",
      " 35 61.7M   35 22.0M    0     0  6208k      0  0:00:10  0:00:03  0:00:07 12.0M\n",
      " 64 61.7M   64 39.6M    0     0  8789k      0  0:00:07  0:00:04  0:00:03 14.0M\n",
      " 90 61.7M   90 56.1M    0     0   9.9M      0  0:00:06  0:00:05  0:00:01 14.6M\n",
      "100 61.7M  100 61.7M    0     0  10.4M      0  0:00:05  0:00:05 --:--:-- 15.0M\n",
      "x TSP/\n",
      "x __MACOSX/._TSP\n",
      "x TSP/tsp50-500_train.txt\n",
      "x __MACOSX/TSP/._tsp50-500_train.txt\n",
      "x TSP/tsp50-500_val.txt\n",
      "x __MACOSX/TSP/._tsp50-500_val.txt\n",
      "x TSP/tsp50-500_test.txt\n",
      "x __MACOSX/TSP/._tsp50-500_test.txt\n"
     ]
    }
   ],
   "source": [
    "os.chdir('C:\\\\Users\\\\User1\\\\Documents\\\\GitHub\\\\ResearchProject1\\\\WLColorRefinement\\\\data\\\\TSP')\n",
    "if not os.path.isfile('TSP.zip'):\n",
    "    print('downloading..')\n",
    "    !curl https://www.dropbox.com/s/1wf6zn5nq7qjg0e/TSP.zip?dl=1 -o TSP.zip -J -L -k\n",
    "    !tar -xvf TSP.zip -C ./"
   ]
  },
  {
   "cell_type": "code",
   "execution_count": null,
   "metadata": {},
   "outputs": [
    {
     "name": "stdout",
     "output_type": "stream",
     "text": [
      "preparing all graphs for the TRAIN set...\n"
     ]
    },
    {
     "name": "stderr",
     "output_type": "stream",
     "text": [
      "C:\\Users\\User1\\anaconda3\\lib\\site-packages\\dgl\\base.py:45: DGLWarning: Recommend creating graphs by `dgl.graph(data)` instead of `dgl.DGLGraph(data)`.\n",
      "  return warnings.warn(message, category=category, stacklevel=1)\n",
      "C:\\Users\\User1\\anaconda3\\lib\\site-packages\\dgl\\base.py:45: DGLWarning: DGLGraph.add_edge is deprecated. Please use DGLGraph.add_edges\n",
      "  return warnings.warn(message, category=category, stacklevel=1)\n"
     ]
    }
   ],
   "source": [
    "TSP_graphs = TSPDatasetDGL('TSP')"
   ]
  },
  {
   "cell_type": "code",
   "execution_count": null,
   "metadata": {},
   "outputs": [],
   "source": [
    "#     with open('C:\\\\Users\\\\User1\\\\Documents\\\\GitHub\\\\ResearchProject1\\\\WLColorRefinement\\\\data\\\\TSP\\\\TSP.pkl','wb') as f:\n",
    "#         pickle.dump([TSP_graphs.train,TSP_graphs.val,TSP_graphs.test],f)"
   ]
  }
 ],
 "metadata": {
  "kernelspec": {
   "display_name": "Python 3",
   "language": "python",
   "name": "python3"
  },
  "language_info": {
   "codemirror_mode": {
    "name": "ipython",
    "version": 3
   },
   "file_extension": ".py",
   "mimetype": "text/x-python",
   "name": "python",
   "nbconvert_exporter": "python",
   "pygments_lexer": "ipython3",
   "version": "3.8.3"
  }
 },
 "nbformat": 4,
 "nbformat_minor": 4
}
