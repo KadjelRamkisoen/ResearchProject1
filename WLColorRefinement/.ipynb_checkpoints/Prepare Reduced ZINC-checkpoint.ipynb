{
 "cells": [
  {
   "cell_type": "code",
   "execution_count": 1,
   "metadata": {},
   "outputs": [
    {
     "name": "stderr",
     "output_type": "stream",
     "text": [
      "Using backend: pytorch\n"
     ]
    }
   ],
   "source": [
    "# Imports\n",
    "import pickle\n",
    "import time\n",
    "import create_reduced_graph as crg\n",
    "import WLColorRefinement as wl\n",
    "from data.molecules import MoleculeDataset"
   ]
  },
  {
   "cell_type": "code",
   "execution_count": 2,
   "metadata": {},
   "outputs": [
    {
     "name": "stdout",
     "output_type": "stream",
     "text": [
      "[I] Loading dataset ZINC...\n",
      "train, test, val sizes : 10000 1000 1000\n",
      "[I] Finished loading.\n",
      "[I] Data load time: 9.7848s\n"
     ]
    }
   ],
   "source": [
    "# Load Original ZINC dataset\n",
    "ZINC_original = MoleculeDataset('ZINC')"
   ]
  },
  {
   "cell_type": "code",
   "execution_count": 4,
   "metadata": {},
   "outputs": [
    {
     "name": "stderr",
     "output_type": "stream",
     "text": [
      "C:\\Users\\User1\\Documents\\GitHub\\ResearchProject1\\WLColorRefinement\\create_reduced_graph.py:254: UserWarning: To copy construct from a tensor, it is recommended to use sourceTensor.clone().detach() or sourceTensor.clone().detach().requires_grad_(True), rather than torch.tensor(sourceTensor).\n",
      "  reduced_graph.ndata['feat'] = torch.tensor(new_features)\n"
     ]
    }
   ],
   "source": [
    "# Reduce ZINC dataset and store in seperate lists\n",
    "ZINC_reduced_train = list()\n",
    "ZINC_reduced_test = list()\n",
    "ZINC_reduced_val = list()\n",
    "\n",
    "for graph in ZINC_original.train:\n",
    "    graph[0].ndata['original_feat'] = graph[0].ndata['feat']\n",
    "    reduced_graph = crg.reduced_graph(wl.wl_coloring(graph[0]))\n",
    "    ZINC_reduced_train.append((reduced_graph, graph[1]))\n",
    "for graph in ZINC_original.test:\n",
    "    graph[0].ndata['original_feat'] = graph[0].ndata['feat']\n",
    "    reduced_graph = crg.reduced_graph(wl.wl_coloring(graph[0]))\n",
    "    ZINC_reduced_train.append((reduced_graph, graph[1]))\n",
    "for graph in ZINC_original.val:\n",
    "    graph[0].ndata['original_feat'] = graph[0].ndata['feat']\n",
    "    reduced_graph = crg.reduced_graph(wl.wl_coloring(graph[0]))\n",
    "    ZINC_reduced_train.append((reduced_graph, graph[1]))\n",
    "    \n"
   ]
  },
  {
   "cell_type": "code",
   "execution_count": 5,
   "metadata": {},
   "outputs": [],
   "source": [
    "num_atom_type = ZINC_original.num_atom_type\n",
    "num_bond_type = ZINC_original.num_bond_type\n",
    "    \n",
    "with open('ZINC_reduced_2.pkl', 'wb') as f:\n",
    "    pickle.dump([ZINC_reduced_train, ZINC_reduced_val, ZINC_reduced_test, num_atom_type, num_bond_type], f)"
   ]
  },
  {
   "cell_type": "code",
   "execution_count": 14,
   "metadata": {},
   "outputs": [],
   "source": [
    "import torch\n",
    "\n",
    "\n",
    "class MoleculeDataset(torch.utils.data.Dataset):\n",
    "\n",
    "    def __init__(self, name):\n",
    "        \"\"\"\n",
    "            Loading ZINC datasets\n",
    "        \"\"\"\n",
    "        start = time.time()\n",
    "        print(\"[I] Loading dataset %s...\" % (name))\n",
    "        self.name = name\n",
    "        data_dir = 'C:\\\\Users\\\\User1\\\\Documents\\\\GitHub\\\\ResearchProject1\\\\WLColorRefinement\\\\'\n",
    "        with open(data_dir+name+'.pkl',\"rb\") as f:\n",
    "            f = pickle.load(f)\n",
    "            self.train = f[0]\n",
    "            self.val = f[1]\n",
    "            self.test = f[2]\n",
    "            self.num_atom_type = f[3]\n",
    "            self.num_bond_type = f[4]\n",
    "        print('train, test, val sizes :',len(self.train),len(self.test),len(self.val))\n",
    "        print(\"[I] Finished loading.\")\n",
    "        print(\"[I] Data load time: {:.4f}s\".format(time.time()-start))\n",
    "\n",
    "\n",
    "    # form a mini batch from a given list of samples = [(graph, label) pairs]\n",
    "    def collate(self, samples):\n",
    "        # The input samples is a list of pairs (graph, label).\n",
    "        graphs, labels = map(list, zip(*samples))\n",
    "        labels = torch.tensor(np.array(labels)).unsqueeze(1)\n",
    "        batched_graph = dgl.batch(graphs)       \n",
    "        \n",
    "        return batched_graph, labels\n",
    "    \n",
    "    # prepare dense tensors for GNNs using them; such as RingGNN, 3WLGNN\n",
    "    def collate_dense_gnn(self, samples, edge_feat):\n",
    "        # The input samples is a list of pairs (graph, label).\n",
    "        graphs, labels = map(list, zip(*samples))\n",
    "        labels = torch.tensor(np.array(labels)).unsqueeze(1)\n",
    "    \n",
    "        g = graphs[0]\n",
    "        adj = self._sym_normalize_adj(g.adjacency_matrix().to_dense())        \n",
    "        \"\"\"\n",
    "            Adapted from https://github.com/leichen2018/Ring-GNN/\n",
    "            Assigning node and edge feats::\n",
    "            we have the adjacency matrix in R^{n x n}, the node features in R^{d_n} and edge features R^{d_e}.\n",
    "            Then we build a zero-initialized tensor, say T, in R^{(1 + d_n + d_e) x n x n}. T[0, :, :] is the adjacency matrix.\n",
    "            The diagonal T[1:1+d_n, i, i], i = 0 to n-1, store the node feature of node i. \n",
    "            The off diagonal T[1+d_n:, i, j] store edge features of edge(i, j).\n",
    "        \"\"\"\n",
    "\n",
    "        zero_adj = torch.zeros_like(adj)\n",
    "\n",
    "        if edge_feat:\n",
    "            # use edge feats also to prepare adj\n",
    "            adj_with_edge_feat = torch.stack([zero_adj for j in range(self.num_atom_type + self.num_bond_type)])\n",
    "            adj_with_edge_feat = torch.cat([adj.unsqueeze(0), adj_with_edge_feat], dim=0)\n",
    "\n",
    "            us, vs = g.edges()      \n",
    "            for idx, edge_label in enumerate(g.edata['feat']):\n",
    "                adj_with_edge_feat[edge_label.item()+1+self.num_atom_type][us[idx]][vs[idx]] = 1\n",
    "\n",
    "            for node, node_label in enumerate(g.ndata['feat']):\n",
    "                adj_with_edge_feat[node_label.item()+1][node][node] = 1\n",
    "            \n",
    "            x_with_edge_feat = adj_with_edge_feat.unsqueeze(0)\n",
    "            \n",
    "            return None, x_with_edge_feat, labels\n",
    "        \n",
    "        else:\n",
    "            # use only node feats to prepare adj\n",
    "            adj_no_edge_feat = torch.stack([zero_adj for j in range(self.num_atom_type)])\n",
    "            adj_no_edge_feat = torch.cat([adj.unsqueeze(0), adj_no_edge_feat], dim=0)\n",
    "\n",
    "            for node, node_label in enumerate(g.ndata['feat']):\n",
    "                adj_no_edge_feat[node_label.item()+1][node][node] = 1\n",
    "\n",
    "            x_no_edge_feat = adj_no_edge_feat.unsqueeze(0)\n",
    "\n",
    "            return x_no_edge_feat, None, labels\n",
    "    \n",
    "    def _sym_normalize_adj(self, adj):\n",
    "        deg = torch.sum(adj, dim = 0)#.squeeze()\n",
    "        deg_inv = torch.where(deg>0, 1./torch.sqrt(deg), torch.zeros(deg.size()))\n",
    "        deg_inv = torch.diag(deg_inv)\n",
    "        return torch.mm(deg_inv, torch.mm(adj, deg_inv))\n",
    "    \n",
    "    def _add_self_loops(self):\n",
    "        \n",
    "        # function for adding self loops\n",
    "        # this function will be called only if self_loop flag is True\n",
    "            \n",
    "        self.train.graph_lists = [self_loop(g) for g in self.train.graph_lists]\n",
    "        self.val.graph_lists = [self_loop(g) for g in self.val.graph_lists]\n",
    "        self.test.graph_lists = [self_loop(g) for g in self.test.graph_lists]\n",
    "\n",
    "    def _add_positional_encodings(self, pos_enc_dim):\n",
    "        \n",
    "        # Graph positional encoding v/ Laplacian eigenvectors\n",
    "        self.train.graph_lists = [positional_encoding(g, pos_enc_dim) for g in self.train.graph_lists]\n",
    "        self.val.graph_lists = [positional_encoding(g, pos_enc_dim) for g in self.val.graph_lists]\n",
    "        self.test.graph_lists = [positional_encoding(g, pos_enc_dim) for g in self.test.graph_lists]"
   ]
  },
  {
   "cell_type": "code",
   "execution_count": 15,
   "metadata": {},
   "outputs": [
    {
     "name": "stdout",
     "output_type": "stream",
     "text": [
      "[I] Loading dataset ZINC_reduced_2...\n",
      "train, test, val sizes : 12000 0 0\n",
      "[I] Finished loading.\n",
      "[I] Data load time: 9.6185s\n"
     ]
    }
   ],
   "source": [
    "testRetrieval = MoleculeDataset('ZINC_reduced_2')"
   ]
  },
  {
   "cell_type": "code",
   "execution_count": 16,
   "metadata": {},
   "outputs": [
    {
     "name": "stdout",
     "output_type": "stream",
     "text": [
      "<class '__main__.MoleculeDataset'>\n",
      "<data.molecules.MoleculeDataset object at 0x0000023C5EEE3AF0>\n"
     ]
    }
   ],
   "source": [
    "print(MoleculeDataset)\n",
    "print(ZINC_original)"
   ]
  },
  {
   "cell_type": "code",
   "execution_count": null,
   "metadata": {},
   "outputs": [],
   "source": [
    "class MoleculeDGL(torch.utils.data.Dataset):\n",
    "    def __init__(self, data, split, num_graphs=None):\n",
    "#         self.data_dir = data_dir\n",
    "        self.split = split\n",
    "        self.num_graphs = num_graphs\n",
    "        \n",
    "#         with open(data_dir + \"\\\\%s.pickle\" % self.split,\"rb\") as f:\n",
    "#             self.data = pickle.load(f)\n",
    "\n",
    "        if self.num_graphs in [10000, 1000]:\n",
    "            with open(data_dir + \"\\\\%s.index\" % self.split,\"r\") as f:\n",
    "                data_idx = [list(map(int, idx)) for idx in csv.reader(f)]\n",
    "                self.data = [ self.data[i] for i in data_idx[0] ]\n",
    "\n",
    "            assert len(self.data)==num_graphs, \"Sample num_graphs again; available idx: train/val/test => 10k/1k/1k\"\n",
    "        \n",
    "        self.graph_lists = []\n",
    "        self.graph_labels = []\n",
    "        self.n_samples = len(self.data)\n",
    "        self._prepare()\n",
    "    \n",
    "    def _prepare(self):\n",
    "        print(\"preparing %d graphs for the %s set...\" % (self.num_graphs, self.split.upper()))\n",
    "        \n",
    "        for molecule in self.data:\n",
    "            node_features = molecule['atom_type'].long()\n",
    "            \n",
    "            adj = molecule['bond_type']\n",
    "            edge_list = (adj != 0).nonzero()  # converting adj matrix to edge_list\n",
    "            \n",
    "            edge_idxs_in_adj = edge_list.split(1, dim=1)\n",
    "            edge_features = adj[edge_idxs_in_adj].reshape(-1).long()\n",
    "            \n",
    "            # Create the DGL Graph\n",
    "            g = dgl.DGLGraph()\n",
    "            g.add_nodes(molecule['num_atom'])\n",
    "            g.ndata['feat'] = node_features\n",
    "            \n",
    "            for src, dst in edge_list:\n",
    "                g.add_edges(src.item(), dst.item())\n",
    "            g.edata['feat'] = edge_features\n",
    "            \n",
    "            self.graph_lists.append(g)\n",
    "            self.graph_labels.append(molecule['logP_SA_cycle_normalized'])\n",
    "        \n",
    "    def __len__(self):\n",
    "        \"\"\"Return the number of graphs in the dataset.\"\"\"\n",
    "        return self.n_samples\n",
    "\n",
    "    def __getitem__(self, idx):\n",
    "        \"\"\"\n",
    "            Get the idx^th sample.\n",
    "            Parameters\n",
    "            ---------\n",
    "            idx : int\n",
    "                The sample index.\n",
    "            Returns\n",
    "            -------\n",
    "            (dgl.DGLGraph, int)\n",
    "                DGLGraph with node feature stored in `feat` field\n",
    "                And its label.\n",
    "        \"\"\"\n",
    "        return self.graph_lists[idx], self.graph_labels[idx]\n",
    "    \n",
    "class MoleculeDatasetDGL(torch.utils.data.Dataset):\n",
    "    def __init__(self, name='Zinc'):\n",
    "        t0 = time.time()\n",
    "        self.name = name\n",
    "        \n",
    "        self.num_atom_type = 28 # known meta-info about the zinc dataset; can be calculated as well\n",
    "        self.num_bond_type = 4 # known meta-info about the zinc dataset; can be calculated as well\n",
    "        \n",
    "        data_dir='C:\\\\Users\\\\User1\\\\Documents\\\\GitHub\\\\ResearchProject1\\\\WLColorRefinement\\\\data\\\\molecules'\n",
    "        if self.name == 'ZINC-full':\n",
    "            data_dir='C:\\\\Users\\\\User1\\\\Documents\\\\GitHub\\\\ResearchProject1\\\\WLColorRefinement\\\\data\\\\molecules\\\\zinc_full'\n",
    "            self.train = MoleculeDGL(data_dir, 'train', num_graphs=220011)\n",
    "            self.val = MoleculeDGL(data_dir, 'val', num_graphs=24445)\n",
    "            self.test = MoleculeDGL(data_dir, 'test', num_graphs=5000)\n",
    "        else:            \n",
    "            self.train = MoleculeDGL(data_dir, 'train', num_graphs=10000)\n",
    "            self.val = MoleculeDGL(data_dir, 'val', num_graphs=1000)\n",
    "            self.test = MoleculeDGL(data_dir, 'test', num_graphs=1000)\n",
    "        print(\"Time taken: {:.4f}s\".format(time.time()-t0))"
   ]
  }
 ],
 "metadata": {
  "kernelspec": {
   "display_name": "Python 3",
   "language": "python",
   "name": "python3"
  },
  "language_info": {
   "codemirror_mode": {
    "name": "ipython",
    "version": 3
   },
   "file_extension": ".py",
   "mimetype": "text/x-python",
   "name": "python",
   "nbconvert_exporter": "python",
   "pygments_lexer": "ipython3",
   "version": "3.8.3"
  }
 },
 "nbformat": 4,
 "nbformat_minor": 4
}
