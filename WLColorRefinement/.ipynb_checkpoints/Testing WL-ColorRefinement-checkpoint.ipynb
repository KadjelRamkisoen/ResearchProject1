{
 "cells": [
  {
   "cell_type": "code",
   "execution_count": 1,
   "metadata": {},
   "outputs": [
    {
     "name": "stderr",
     "output_type": "stream",
     "text": [
      "Using backend: pytorch\n"
     ]
    }
   ],
   "source": [
    "#List of imports\n",
    "\n",
    "import networkx as nx\n",
    "import numpy as np\n",
    "import pickle\n",
    "from pathlib import Path\n",
    "import os\n",
    "import torch\n",
    "import time\n",
    "import dgl\n",
    "import WLColorRefinement as wl\n",
    "import CSL_data\n"
   ]
  },
  {
   "cell_type": "code",
   "execution_count": 2,
   "metadata": {},
   "outputs": [
    {
     "name": "stderr",
     "output_type": "stream",
     "text": [
      "C:\\Users\\User1\\anaconda3\\lib\\site-packages\\dgl\\base.py:45: DGLWarning: Recommend creating graphs by `dgl.graph(data)` instead of `dgl.DGLGraph(data)`.\n",
      "  return warnings.warn(message, category=category, stacklevel=1)\n"
     ]
    }
   ],
   "source": [
    "\"\"\"\n",
    "    Get the CSL graphs.\n",
    "    Send each CSL graph to the coloring function.\n",
    "\"\"\"\n",
    "CSL_graphs = CSL_data.get_CSL_graphs()\n",
    "\n",
    "# G = nx.path_graph(15)\n",
    "# G = dgl.from_networkx(G)\n",
    "\n",
    "for i in CSL_graphs:\n",
    "    wl.wl_coloring(i) # True\n"
   ]
  },
  {
   "cell_type": "code",
   "execution_count": 3,
   "metadata": {},
   "outputs": [],
   "source": [
    "\"\"\"\n",
    "    super_node(dgl.DGLgraph)\n",
    "    \n",
    "    Function to create a supernode\n",
    "    The idea is to have a function that iterates over the graph and\n",
    "    finds the nodes with the same colors and then places them in one supernode\n",
    "\"\"\"\n",
    "\n",
    "def super_node(graph):\n",
    "    super_node = {}\n",
    "    colors = graph.ndata['color'].numpy()\n",
    "    nodes = graph.nodes().numpy()\n",
    "\n",
    "    count = len(colors)\n",
    "    i = 0\n",
    "    while i < count:\n",
    "        if colors[i] not in super_node:\n",
    "            super_node[colors[i]] = dict()\n",
    "        super_node[colors[i]][nodes[i]] = list()\n",
    "        i += 1\n",
    "    edges = create_edge_list(graph)\n",
    "    super_edge(edges, super_node)\n",
    "    \n",
    "    return super_node\n",
    "\n",
    "\"\"\"\n",
    "    Create_edge_list(dgl.DGLgraph)\n",
    "    \n",
    "    Function to create a list with (source node, destination node)\n",
    "\"\"\"\n",
    "\n",
    "def create_edge_list(graph):\n",
    "    src_edges = graph.edges(form='uv', order='srcdst')[0].numpy()\n",
    "    dst_edges = graph.edges(form='uv', order='srcdst')[1].numpy()\n",
    "    \n",
    "    concat_edges = list()\n",
    "    for i in range(0, len(src_edges)):\n",
    "        sub_list = list()\n",
    "        sub_list.append(src_edges[i])\n",
    "        sub_list.append(dst_edges[i])\n",
    "        concat_edges.append(sub_list)\n",
    "    return concat_edges    "
   ]
  },
  {
   "cell_type": "code",
   "execution_count": 4,
   "metadata": {},
   "outputs": [],
   "source": [
    "\"\"\"\n",
    "    super_edge(list, dgl.DGLgraph)\n",
    "    \n",
    "    Function to find the edges between supernodes and calculate the weight of the edges.\n",
    "    The weight of the edge is the total of edges that go from one node within the supernode to another node in another supernode.\n",
    "    If the number of edges from each node going out are not the same, the smallest common value is taken.\n",
    "    \n",
    "    Make sure that the the src_edges of the create_edge_list function is sorted from low to high.\n",
    "\"\"\"\n",
    "\n",
    "def super_edge(edges, super_node):\n",
    "    weight = {}\n",
    "    for color in super_node:\n",
    "        weight[color]=0\n",
    "        for node in super_node[color]:\n",
    "            for edge in edges:\n",
    "                if node == edge[0]:\n",
    "                    super_node[color][node].append(edge)\n",
    "                elif node < edge[0]:\n",
    "                    count = len(super_node[color][node])\n",
    "                    if weight[color] > count:\n",
    "                        weight[color] = count\n",
    "                    break\n",
    "    return weight\n",
    "                "
   ]
  },
  {
   "cell_type": "code",
   "execution_count": 5,
   "metadata": {},
   "outputs": [
    {
     "data": {
      "text/plain": [
       "{10: {0: [[0, 1], [0, 2], [0, 39], [0, 40]],\n",
       "  1: [[1, 0], [1, 2], [1, 3], [1, 39]],\n",
       "  2: [[2, 0], [2, 1], [2, 3], [2, 4]],\n",
       "  3: [[3, 1], [3, 2], [3, 4], [3, 5]],\n",
       "  4: [[4, 2], [4, 3], [4, 5], [4, 6]],\n",
       "  5: [[5, 3], [5, 4], [5, 6], [5, 7]],\n",
       "  6: [[6, 4], [6, 5], [6, 7], [6, 8]],\n",
       "  7: [[7, 5], [7, 6], [7, 8], [7, 9]],\n",
       "  8: [[8, 6], [8, 7], [8, 9], [8, 10]],\n",
       "  9: [[9, 7], [9, 8], [9, 10], [9, 11]],\n",
       "  10: [[10, 8], [10, 9], [10, 11], [10, 12]],\n",
       "  11: [[11, 9], [11, 10], [11, 12], [11, 13]],\n",
       "  12: [[12, 10], [12, 11], [12, 13], [12, 14]],\n",
       "  13: [[13, 11], [13, 12], [13, 14], [13, 15]],\n",
       "  14: [[14, 12], [14, 13], [14, 15], [14, 16]],\n",
       "  15: [[15, 13], [15, 14], [15, 16], [15, 17]],\n",
       "  16: [[16, 14], [16, 15], [16, 17], [16, 18]],\n",
       "  17: [[17, 15], [17, 16], [17, 18], [17, 19]],\n",
       "  18: [[18, 16], [18, 17], [18, 19], [18, 20]],\n",
       "  19: [[19, 17], [19, 18], [19, 20], [19, 21]],\n",
       "  20: [[20, 18], [20, 19], [20, 21], [20, 22]],\n",
       "  21: [[21, 19], [21, 20], [21, 22], [21, 23]],\n",
       "  22: [[22, 20], [22, 21], [22, 23], [22, 24]],\n",
       "  23: [[23, 21], [23, 22], [23, 24], [23, 25]],\n",
       "  24: [[24, 22], [24, 23], [24, 25], [24, 26]],\n",
       "  25: [[25, 23], [25, 24], [25, 26], [25, 27]],\n",
       "  26: [[26, 24], [26, 25], [26, 27], [26, 28]],\n",
       "  27: [[27, 25], [27, 26], [27, 28], [27, 29]],\n",
       "  28: [[28, 26], [28, 27], [28, 29], [28, 30]],\n",
       "  29: [[29, 27], [29, 28], [29, 30], [29, 31]],\n",
       "  30: [[30, 28], [30, 29], [30, 31], [30, 32]],\n",
       "  31: [[31, 29], [31, 30], [31, 32], [31, 33]],\n",
       "  32: [[32, 30], [32, 31], [32, 33], [32, 34]],\n",
       "  33: [[33, 31], [33, 32], [33, 34], [33, 35]],\n",
       "  34: [[34, 32], [34, 33], [34, 35], [34, 36]],\n",
       "  35: [[35, 33], [35, 34], [35, 36], [35, 37]],\n",
       "  36: [[36, 34], [36, 35], [36, 37], [36, 38]],\n",
       "  37: [[37, 35], [37, 36], [37, 38], [37, 40]],\n",
       "  38: [[38, 36], [38, 37], [38, 39], [38, 40]],\n",
       "  39: [[39, 0], [39, 1], [39, 38], [39, 40]],\n",
       "  40: [[40, 0], [40, 37], [40, 38], [40, 39]]}}"
      ]
     },
     "execution_count": 5,
     "metadata": {},
     "output_type": "execute_result"
    }
   ],
   "source": [
    "super_node(CSL_graphs[1])\n",
    "# create_edge_list(CSL_graphs[1])\n",
    "# super_edge(CSL_)"
   ]
  },
  {
   "cell_type": "code",
   "execution_count": 6,
   "metadata": {},
   "outputs": [
    {
     "data": {
      "image/png": "[encoded data removed]",
      "text/plain": [
       "<Figure size 432x288 with 1 Axes>"
      ]
     },
     "metadata": {},
     "output_type": "display_data"
    }
   ],
   "source": [
    "# print(CSL_graphs)\n",
    "\"\"\"\n",
    "    Funtion to draw the graph\n",
    "\"\"\"\n",
    "# nx_G = dgl.to_networkx(CSL_graphs[0], node_attrs=[CSL_graphs[0].ndata['feat'],CSL_graphs[0].ndata['color']], edge_attrs=CSL_graphs[0].edata['feat']).to_undirected()\n",
    "# nx_graph = dgl.to_networkx(CSL_graphs[0])\n",
    "nx_graph = CSL_graphs[0].to_networkx()\n",
    "pos = nx.kamada_kawai_layout(nx_graph)\n",
    "nx.draw(nx_graph, pos, with_labels=True, node_color=CSL_graphs[0].ndata['color'])"
   ]
  },
  {
   "cell_type": "code",
   "execution_count": 7,
   "metadata": {
    "scrolled": true
   },
   "outputs": [],
   "source": [
    "# print(nx_graph.nodes(data=True))\n",
    "# print(nx_graph.edges(data=True))\n",
    "# print(CSL_graphs[4].nodes())\n",
    "# print(CSL_graphs[4].edges())\n",
    "# src_edges = CSL_graphs[4].edges(form='uv', order='eid')[0]\n",
    "# dst_edges = CSL_graphs[4].edges(form='uv', order='eid')[1]\n",
    "\n",
    "# nodes = CSL_graphs[4].nodes().numpy()\n",
    "# print(nodes)\n",
    "# print(src_edges)\n",
    "# print(dst_edges)"
   ]
  },
  {
   "cell_type": "markdown",
   "metadata": {},
   "source": [
    "# "
   ]
  }
 ],
 "metadata": {
  "kernelspec": {
   "display_name": "Python 3",
   "language": "python",
   "name": "python3"
  },
  "language_info": {
   "codemirror_mode": {
    "name": "ipython",
    "version": 3
   },
   "file_extension": ".py",
   "mimetype": "text/x-python",
   "name": "python",
   "nbconvert_exporter": "python",
   "pygments_lexer": "ipython3",
   "version": "3.8.3"
  }
 },
 "nbformat": 4,
 "nbformat_minor": 4
}
