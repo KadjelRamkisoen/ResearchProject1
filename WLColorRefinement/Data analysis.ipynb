{
 "cells": [
  {
   "cell_type": "code",
   "execution_count": 1,
   "metadata": {},
   "outputs": [
    {
     "name": "stderr",
     "output_type": "stream",
     "text": [
      "Using backend: pytorch\n"
     ]
    }
   ],
   "source": [
    "import networkx as nx\n",
    "import numpy as np\n",
    "import pickle\n",
    "from pathlib import Path\n",
    "import os\n",
    "import torch\n",
    "import time\n",
    "import dgl\n",
    "\n",
    "import CSL_data\n",
    "from data.molecules import MoleculeDataset\n",
    "from data.superpixels import SuperPixDataset\n",
    "from data.superpixels import SuperPixDatasetDGL\n",
    "from data.TUs import TUsDataset\n",
    "from data.TSP import TSPDataset\n",
    "from data.COLLAB import COLLABDataset\n",
    "from data.SBMs import SBMsDataset"
   ]
  },
  {
   "cell_type": "code",
   "execution_count": 4,
   "metadata": {},
   "outputs": [],
   "source": [
    "import csv\n",
    "import pandas as pd\n",
    "import matplotlib.pyplot as plt\n",
    "\n",
    "def store_reduction_data(file, original_graphs, reduced_graphs):\n",
    "    i = 0\n",
    "    \n",
    "    with open(file, mode='w') as csv_file:\n",
    "        writer = csv.writer(csv_file)\n",
    "        fieldnames = ['Graph nr', \n",
    "                      'Original nodes', 'Reduced nodes', 'Node compr. rate', \n",
    "                      'Original edges', 'Reduced edges', 'Edge compr. rate'\n",
    "                     ]\n",
    "        writer = csv.writer(csv_file)\n",
    "        writer.writerow(fieldnames)\n",
    "\n",
    "        while i < len(reduced_graphs):\n",
    "            x = original_graphs.train.__getitem__(i)[0]\n",
    "            y = reduced_graphs[i]\n",
    "\n",
    "            writer.writerow([i,x.number_of_nodes(), \n",
    "                             y.number_of_nodes(), \n",
    "                             round((((x.number_of_nodes() - y.number_of_nodes())/x.number_of_nodes())*100),2),\n",
    "                             x.number_of_edges(), \n",
    "                             y.number_of_edges(),\n",
    "                             round((((x.number_of_edges() - y.number_of_edges())/x.number_of_edges())*100),2)\n",
    "                            ])\n",
    "\n",
    "            i += 1\n",
    "            \n",
    "            \n",
    "def create_scatter_plot(df):\n",
    "    print('Analysis')\n",
    "    print('\\n')\n",
    "    \n",
    "    node = df[df.columns[3]]\n",
    "    edge = df[df.columns[6]]\n",
    "\n",
    "    plt.scatter(node, edge, s = 1)\n",
    "    plt.show()\n",
    "    \n",
    "    edge.plot.hist(grid=True, bins=20, rwidth=0.9)\n",
    "    node.plot.hist(grid=True, bins=20, rwidth=0.9)\n",
    "    \n",
    "    i = 0\n",
    "    count_node = {\"<=10\":0,\n",
    "            \"<=20\":0,\n",
    "            \"<=30\":0,\n",
    "            \"<=40\":0,\n",
    "            \"<=50\":0,\n",
    "            \"<=60\":0,\n",
    "            \"<=70\":0,\n",
    "            \"<=80\":0,\n",
    "            \"<=90\":0,\n",
    "            \"<=100\":0\n",
    "            }\n",
    "    \n",
    "    count_edge = {\"<=10\":0,\n",
    "            \"<=20\":0,\n",
    "            \"<=30\":0,\n",
    "            \"<=40\":0,\n",
    "            \"<=50\":0,\n",
    "            \"<=60\":0,\n",
    "            \"<=70\":0,\n",
    "            \"<=80\":0,\n",
    "            \"<=90\":0,\n",
    "            \"<=100\":0\n",
    "            }\n",
    "    while i < len(node):\n",
    "        if node[i] <= 10:\n",
    "            count_node[\"<=10\"] += 1\n",
    "        elif node[i] <= 20:\n",
    "            count_node[\"<=20\"] += 1\n",
    "        elif node[i] <= 30:\n",
    "            count_node[\"<=30\"] += 1\n",
    "        elif node[i] <= 40:\n",
    "            count_node[\"<=40\"] += 1\n",
    "        elif node[i] <= 50:\n",
    "            count_node[\"<=50\"] += 1\n",
    "        elif node[i] <= 60:\n",
    "            count_node[\"<=60\"] += 1\n",
    "        elif node[i] <= 70:\n",
    "            count_node[\"<=70\"] += 1\n",
    "        elif node[i] <= 80:\n",
    "            count_node[\"<=80\"] += 1\n",
    "        elif node[i] <= 90:\n",
    "            count_node[\"<=90\"] += 1\n",
    "        elif node[i] <= 100:\n",
    "            count_node[\"<=100\"] += 1\n",
    "        i += 1\n",
    "    i = 0\n",
    "    while i < len(edge):\n",
    "        print\n",
    "        if edge[i] <= 10:\n",
    "            count_edge[\"<=10\"] += 1\n",
    "        elif edge[i] <= 20:\n",
    "            count_edge[\"<=20\"] += 1\n",
    "        elif edge[i] <= 30:\n",
    "            count_edge[\"<=30\"] += 1\n",
    "        elif edge[i] <= 40:\n",
    "            count_edge[\"<=40\"] += 1\n",
    "        elif edge[i] <= 50:\n",
    "            count_edge[\"<=50\"] += 1\n",
    "        elif edge[i] <= 60:\n",
    "            count_edge[\"<=60\"] += 1\n",
    "        elif edge[i] <= 70:\n",
    "            count_edge[\"<=70\"] += 1\n",
    "        elif edge[i] <= 80:\n",
    "            count_edge[\"<=80\"] += 1\n",
    "        elif edge[i] <= 90:\n",
    "            count_edge[\"<=90\"] += 1\n",
    "        elif edge[i] <= 100:\n",
    "            count_edge[\"<=100\"] += 1\n",
    "        i += 1\n",
    "    print('nodes reduction\\n', count_node)\n",
    "    print('edges reduction\\n', count_edge)"
   ]
  },
  {
   "cell_type": "code",
   "execution_count": 5,
   "metadata": {},
   "outputs": [
    {
     "name": "stdout",
     "output_type": "stream",
     "text": [
      "[I] Loading dataset MNIST...\n",
      "train, test, val sizes : 55000 5000 10000\n",
      "[I] Finished loading.\n",
      "[I] Data load time: 52.9049s\n",
      "Getting MNIST colored graphs ...\n",
      "Finished MNIST getting colored graph\n",
      "\n",
      "Getting MNIST reduced graphs ...\n",
      "Finished MNIST getting reduced graph\n"
     ]
    }
   ],
   "source": [
    "MNIST_graphs = SuperPixDataset('MNIST')\n",
    "\n",
    "print(\"Getting MNIST colored graphs ...\")\n",
    "MNIST_colored_pkl = open('C:\\\\Users\\\\User1\\\\Documents\\\\GitHub\\\\ResearchProject1\\\\WLColorRefinement\\\\data\\\\superpixels\\\\MNIST_train_colored.pkl','rb')\n",
    "MNIST_colored_graphs = pickle.load(MNIST_colored_pkl)\n",
    "print(\"Finished MNIST getting colored graph\\n\")\n",
    "\n",
    "print(\"Getting MNIST reduced graphs ...\")\n",
    "MNIST_reduced_pkl = open('C:\\\\Users\\\\User1\\\\Documents\\\\GitHub\\\\ResearchProject1\\\\WLColorRefinement\\\\data\\\\superpixels\\\\MNIST_train_reduced.pkl','rb')\n",
    "MNIST_reduced_graphs = pickle.load(MNIST_reduced_pkl)\n",
    "print(\"Finished MNIST getting reduced graph\")"
   ]
  },
  {
   "cell_type": "code",
   "execution_count": 6,
   "metadata": {},
   "outputs": [
    {
     "name": "stdout",
     "output_type": "stream",
     "text": [
      "[I] Loading dataset CIFAR10...\n",
      "train, test, val sizes : 45000 10000 10000\n",
      "[I] Finished loading.\n",
      "[I] Data load time: 53.4441s\n",
      "\n",
      "Getting CIFAR10 colored graphs ...\n",
      "Finished CIFAR10 getting colored graph\n",
      "\n",
      "Getting CIFAR10 reduced graphs ...\n",
      "Finished CIFAR10 getting reduced graph\n"
     ]
    }
   ],
   "source": [
    "CIFAR10_graphs = SuperPixDataset('CIFAR10')\n",
    "\n",
    "print(\"\\nGetting CIFAR10 colored graphs ...\")\n",
    "CIFAR10_colored_pkl = open('C:\\\\Users\\\\User1\\\\Documents\\\\GitHub\\\\ResearchProject1\\\\WLColorRefinement\\\\data\\\\superpixels\\\\CIFAR10_train_colored.pkl','rb')\n",
    "CIFAR10_colored_graphs = pickle.load(CIFAR10_colored_pkl)\n",
    "print(\"Finished CIFAR10 getting colored graph\\n\")\n",
    "\n",
    "print(\"Getting CIFAR10 reduced graphs ...\")\n",
    "CIFAR10_reduced_pkl = open('C:\\\\Users\\\\User1\\\\Documents\\\\GitHub\\\\ResearchProject1\\\\WLColorRefinement\\\\data\\\\superpixels\\\\CIFAR10_train_reduced.pkl','rb')\n",
    "CIFAR10_reduced_graphs = pickle.load(CIFAR10_reduced_pkl)\n",
    "print(\"Finished CIFAR10 getting reduced graph\")"
   ]
  },
  {
   "cell_type": "code",
   "execution_count": 8,
   "metadata": {},
   "outputs": [
    {
     "name": "stdout",
     "output_type": "stream",
     "text": [
      "[I] Loading dataset ZINC...\n",
      "train, test, val sizes : 10000 1000 1000\n",
      "[I] Finished loading.\n",
      "[I] Data load time: 31.9142s\n",
      "\n",
      "Getting ZINC colored graphs ...\n",
      "Finished ZINC getting colored graph\n",
      "\n",
      "Getting ZINC reduced graphs ...\n",
      "Finished ZINC getting reduced graph\n"
     ]
    }
   ],
   "source": [
    "ZINC_graphs = MoleculeDataset('ZINC')\n",
    "\n",
    "print(\"\\nGetting ZINC colored graphs ...\")\n",
    "ZINC_colored_pkl = open('C:\\\\Users\\\\User1\\\\Documents\\\\GitHub\\\\ResearchProject1\\\\WLColorRefinement\\\\data\\\\molecules\\\\ZINC_train_colored.pkl','rb')\n",
    "ZINC_colored_graphs = pickle.load(ZINC_colored_pkl)\n",
    "print(\"Finished ZINC getting colored graph\\n\")\n",
    "\n",
    "print(\"Getting ZINC reduced graphs ...\")\n",
    "ZINC_reduced_pkl = open('C:\\\\Users\\\\User1\\\\Documents\\\\GitHub\\\\ResearchProject1\\\\WLColorRefinement\\\\data\\\\molecules\\\\ZINC_train_reduced.pkl','rb')\n",
    "ZINC_reduced_graphs = pickle.load(ZINC_reduced_pkl)\n",
    "print(\"Finished ZINC getting reduced graph\")"
   ]
  },
  {
   "cell_type": "code",
   "execution_count": 7,
   "metadata": {},
   "outputs": [
    {
     "name": "stdout",
     "output_type": "stream",
     "text": [
      "[I] Loading dataset SBM_CLUSTER...\n",
      "train, test, val sizes : 10000 1000 1000\n",
      "[I] Finished loading.\n",
      "[I] Data load time: 49.7186s\n",
      "\n",
      "Getting CLUSTER colored graphs ...\n",
      "Finished CLUSTER getting colored graph\n",
      "\n",
      "Getting CLUSTER reduced graphs ...\n",
      "Finished CLUSTER getting reduced graph\n"
     ]
    }
   ],
   "source": [
    "class DotDict(dict):\n",
    "    def __init__(self, **kwds):\n",
    "        self.update(kwds)\n",
    "        self.__dict__ = self\n",
    "        \n",
    "SBM_CLUSTER_graphs = SBMsDataset('SBM_CLUSTER')\n",
    "print(\"\\nGetting CLUSTER colored graphs ...\")\n",
    "CLUSTER_colored_pkl = open('C:\\\\Users\\\\User1\\\\Documents\\\\GitHub\\\\ResearchProject1\\\\WLColorRefinement\\\\data\\\\SBMs\\\\CLUSTER_train_colored.pkl','rb')\n",
    "CLUSTER_colored_graphs = pickle.load(CLUSTER_colored_pkl)\n",
    "print(\"Finished CLUSTER getting colored graph\\n\")\n",
    "\n",
    "print(\"Getting CLUSTER reduced graphs ...\")\n",
    "CLUSTER_reduced_pkl = open('C:\\\\Users\\\\User1\\\\Documents\\\\GitHub\\\\ResearchProject1\\\\WLColorRefinement\\\\data\\\\SBMs\\\\CLUSTER_train_reduced.pkl','rb')\n",
    "CLUSTER_reduced_graphs = pickle.load(CLUSTER_reduced_pkl)\n",
    "print(\"Finished CLUSTER getting reduced graph\")"
   ]
  },
  {
   "cell_type": "code",
   "execution_count": 9,
   "metadata": {},
   "outputs": [
    {
     "name": "stdout",
     "output_type": "stream",
     "text": [
      "[I] Loading dataset SBM_PATTERN...\n",
      "train, test, val sizes : 10000 2000 2000\n",
      "[I] Finished loading.\n",
      "[I] Data load time: 91.2629s\n",
      "\n",
      "Getting PATTERN colored graphs ...\n",
      "Finished PATTERN getting colored graph\n",
      "\n",
      "Getting PATTERN reduced graphs ...\n",
      "Finished PATTERN getting reduced graph\n"
     ]
    }
   ],
   "source": [
    "SBM_PATTERN_graphs = SBMsDataset('SBM_PATTERN')\n",
    "\n",
    "print(\"\\nGetting PATTERN colored graphs ...\")\n",
    "PATTERN_colored_pkl = open('C:\\\\Users\\\\User1\\\\Documents\\\\GitHub\\\\ResearchProject1\\\\WLColorRefinement\\\\data\\\\SBMs\\\\PATTERN_train_colored.pkl','rb')\n",
    "PATTERN_colored_graphs = pickle.load(PATTERN_colored_pkl)\n",
    "print(\"Finished PATTERN getting colored graph\\n\")\n",
    "\n",
    "print(\"Getting PATTERN reduced graphs ...\")\n",
    "PATTERN_reduced_pkl = open('C:\\\\Users\\\\User1\\\\Documents\\\\GitHub\\\\ResearchProject1\\\\WLColorRefinement\\\\data\\\\SBMs\\\\PATTERN_train_reduced.pkl','rb')\n",
    "PATTERN_reduced_graphs = pickle.load(PATTERN_reduced_pkl)\n",
    "print(\"Finished PATTERN getting reduced graph\")"
   ]
  },
  {
   "cell_type": "code",
   "execution_count": 7,
   "metadata": {
    "collapsed": true
   },
   "outputs": [
    {
     "name": "stdout",
     "output_type": "stream",
     "text": [
      "Analysis\n",
      "\n",
      "\n"
     ]
    },
    {
     "data": {
      "image/png": "[encoded data removed]",
      "text/plain": [
       "<Figure size 432x288 with 1 Axes>"
      ]
     },
     "metadata": {
      "needs_background": "light"
     },
     "output_type": "display_data"
    },
    {
     "name": "stdout",
     "output_type": "stream",
     "text": [
      "nodes reduction\n",
      " {'<=10': 8735, '<=20': 0, '<=30': 0, '<=40': 0, '<=50': 0, '<=60': 0, '<=70': 0, '<=80': 0, '<=90': 0, '<=100': 0}\n",
      "edges reduction\n",
      " {'<=10': 8735, '<=20': 0, '<=30': 0, '<=40': 0, '<=50': 0, '<=60': 0, '<=70': 0, '<=80': 0, '<=90': 0, '<=100': 0}\n"
     ]
    },
    {
     "data": {
      "image/png": "[encoded data removed]",
      "text/plain": [
       "<Figure size 432x288 with 1 Axes>"
      ]
     },
     "metadata": {
      "needs_background": "light"
     },
     "output_type": "display_data"
    }
   ],
   "source": [
    "create_scatter_plot(pd.read_csv (r'CompressionMNIST.csv'))"
   ]
  },
  {
   "cell_type": "code",
   "execution_count": 22,
   "metadata": {
    "collapsed": true
   },
   "outputs": [
    {
     "name": "stdout",
     "output_type": "stream",
     "text": [
      "Analysis\n",
      "\n",
      "\n"
     ]
    },
    {
     "data": {
      "image/png": "[encoded data removed]",
      "text/plain": [
       "<Figure size 432x288 with 1 Axes>"
      ]
     },
     "metadata": {
      "needs_background": "light"
     },
     "output_type": "display_data"
    },
    {
     "name": "stdout",
     "output_type": "stream",
     "text": [
      "nodes reduction\n",
      " {'<=10': 45000, '<=20': 0, '<=30': 0, '<=40': 0, '<=50': 0, '<=60': 0, '<=70': 0, '<=80': 0, '<=90': 0, '<=100': 0}\n",
      "edges reduction\n",
      " {'<=10': 45000, '<=20': 0, '<=30': 0, '<=40': 0, '<=50': 0, '<=60': 0, '<=70': 0, '<=80': 0, '<=90': 0, '<=100': 0}\n"
     ]
    },
    {
     "data": {
      "image/png": "[encoded data removed]",
      "text/plain": [
       "<Figure size 432x288 with 1 Axes>"
      ]
     },
     "metadata": {
      "needs_background": "light"
     },
     "output_type": "display_data"
    }
   ],
   "source": [
    "store_reduction_data('CompressionCIFAR10.csv', CIFAR10_graphs, CIFAR10_reduced_graphs[0])\n",
    "create_scatter_plot(pd.read_csv (r'CompressionCIFAR10.csv'))"
   ]
  },
  {
   "cell_type": "code",
   "execution_count": 21,
   "metadata": {
    "collapsed": true
   },
   "outputs": [
    {
     "name": "stdout",
     "output_type": "stream",
     "text": [
      "Analysis\n",
      "\n",
      "\n"
     ]
    },
    {
     "data": {
      "image/png": "[encoded data removed]",
      "text/plain": [
       "<Figure size 432x288 with 1 Axes>"
      ]
     },
     "metadata": {
      "needs_background": "light"
     },
     "output_type": "display_data"
    },
    {
     "name": "stdout",
     "output_type": "stream",
     "text": [
      "nodes reduction\n",
      " {'<=10': 6411, '<=20': 2882, '<=30': 608, '<=40': 71, '<=50': 22, '<=60': 4, '<=70': 2, '<=80': 0, '<=90': 0, '<=100': 0}\n",
      "edges reduction\n",
      " {'<=10': 4422, '<=20': 2863, '<=30': 1615, '<=40': 783, '<=50': 259, '<=60': 32, '<=70': 12, '<=80': 14, '<=90': 0, '<=100': 0}\n"
     ]
    },
    {
     "data": {
      "image/png": "[encoded data removed]",
      "text/plain": [
       "<Figure size 432x288 with 1 Axes>"
      ]
     },
     "metadata": {
      "needs_background": "light"
     },
     "output_type": "display_data"
    }
   ],
   "source": [
    "# store_reduction_data('CompressionMolcules.csv', ZINC_graphs, ZINC_reduced_graphs[0])\n",
    "create_scatter_plot(pd.read_csv (r'CompressionMolcules.csv'))"
   ]
  },
  {
   "cell_type": "code",
   "execution_count": 10,
   "metadata": {
    "collapsed": true
   },
   "outputs": [
    {
     "name": "stdout",
     "output_type": "stream",
     "text": [
      "Analysis\n",
      "\n",
      "\n"
     ]
    },
    {
     "data": {
      "image/png": "[encoded data removed]",
      "text/plain": [
       "<Figure size 432x288 with 1 Axes>"
      ]
     },
     "metadata": {
      "needs_background": "light"
     },
     "output_type": "display_data"
    },
    {
     "name": "stdout",
     "output_type": "stream",
     "text": [
      "nodes reduction\n",
      " {'<=10': 10000, '<=20': 0, '<=30': 0, '<=40': 0, '<=50': 0, '<=60': 0, '<=70': 0, '<=80': 0, '<=90': 0, '<=100': 0}\n",
      "edges reduction\n",
      " {'<=10': 10000, '<=20': 0, '<=30': 0, '<=40': 0, '<=50': 0, '<=60': 0, '<=70': 0, '<=80': 0, '<=90': 0, '<=100': 0}\n"
     ]
    },
    {
     "data": {
      "image/png": "[encoded data removed]",
      "text/plain": [
       "<Figure size 432x288 with 1 Axes>"
      ]
     },
     "metadata": {
      "needs_background": "light"
     },
     "output_type": "display_data"
    }
   ],
   "source": [
    "create_scatter_plot(pd.read_csv (r'CompressionCLUSTER.csv'))"
   ]
  },
  {
   "cell_type": "code",
   "execution_count": 11,
   "metadata": {
    "collapsed": true
   },
   "outputs": [
    {
     "name": "stdout",
     "output_type": "stream",
     "text": [
      "Analysis\n",
      "\n",
      "\n"
     ]
    },
    {
     "data": {
      "image/png": "[encoded data removed]",
      "text/plain": [
       "<Figure size 432x288 with 1 Axes>"
      ]
     },
     "metadata": {
      "needs_background": "light"
     },
     "output_type": "display_data"
    },
    {
     "name": "stdout",
     "output_type": "stream",
     "text": [
      "nodes reduction\n",
      " {'<=10': 10000, '<=20': 0, '<=30': 0, '<=40': 0, '<=50': 0, '<=60': 0, '<=70': 0, '<=80': 0, '<=90': 0, '<=100': 0}\n",
      "edges reduction\n",
      " {'<=10': 10000, '<=20': 0, '<=30': 0, '<=40': 0, '<=50': 0, '<=60': 0, '<=70': 0, '<=80': 0, '<=90': 0, '<=100': 0}\n"
     ]
    },
    {
     "data": {
      "image/png": "[encoded data removed]",
      "text/plain": [
       "<Figure size 432x288 with 1 Axes>"
      ]
     },
     "metadata": {
      "needs_background": "light"
     },
     "output_type": "display_data"
    }
   ],
   "source": [
    "create_scatter_plot(pd.read_csv (r'CompressionPATTERN.csv'))"
   ]
  },
  {
   "cell_type": "code",
   "execution_count": 10,
   "metadata": {},
   "outputs": [],
   "source": [
    "\"\"\"\n",
    "    Funtion to draw the graph\\n\",\n",
    "\"\"\"\n",
    "def drawGraph(G):\n",
    "    nx_G = G.to_networkx().to_undirected()\n",
    "    pos = nx.kamada_kawai_layout(nx_G)\n",
    "    nx.draw(nx_G, pos, with_labels=True, node_color=G.ndata['feat'])"
   ]
  },
  {
   "cell_type": "code",
   "execution_count": 66,
   "metadata": {},
   "outputs": [],
   "source": [
    "import pandas as pd\n",
    "\n",
    "\"\"\"\n",
    "    Check reduction of graphs\n",
    "\"\"\"\n",
    "\n",
    "def checkReduction(data_file, original_graphs, reduced_graphs):\n",
    "    \n",
    "    graphs_reduction = {}\n",
    "    node_compr_btw_30_50 = {}\n",
    "    edge_compr_btw_30_50 = {}\n",
    "    node_compr_gt_50 = {}\n",
    "    edge_compr_gt_50 = {}\n",
    "\n",
    "\n",
    "    for i in data_file.index:\n",
    "        graph_nr = data_file['Graph nr'][i]\n",
    "        node_compr_rate = data_file['Node compr. rate'][i]\n",
    "        edge_compr_rate = data_file['Edge compr. rate'][i]\n",
    "        graphs = {}\n",
    "        if node_compr_rate >= 50:\n",
    "            graphs['Original'] = original_graphs.train.__getitem__(i)\n",
    "            graphs['Reduced'] = reduced_graphs[0][i]\n",
    "            graphs['Compression'] = node_compr_rate\n",
    "            node_compr_gt_50[graph_nr] = graphs\n",
    "        \n",
    "        if edge_compr_rate >= 50:\n",
    "            graphs['Original'] = original_graphs.train.__getitem__(i)\n",
    "            graphs['Reduced'] = reduced_graphs[0][i]\n",
    "            graphs['Compression'] = edge_compr_rate\n",
    "            edge_compr_gt_50[graph_nr] = graphs\n",
    "\n",
    "        if node_compr_rate < 50 and node_compr_rate >=30:\n",
    "            graphs['Original'] = original_graphs.train.__getitem__(i)\n",
    "            graphs['Reduced'] = reduced_graphs[0][i]\n",
    "            graphs['Compression'] = node_compr_rate\n",
    "            node_compr_btw_30_50[graph_nr] = graphs\n",
    "        \n",
    "        if edge_compr_rate < 50 and edge_compr_rate >=30:\n",
    "            graphs['Original'] = original_graphs.train.__getitem__(i)\n",
    "            graphs['Reduced'] = reduced_graphs[0][i]\n",
    "            graphs['Compression'] = edge_compr_rate\n",
    "            edge_compr_btw_30_50[graph_nr] = graphs\n",
    "    \n",
    "    graphs_reduction['node_compr_gt_50'] = node_compr_gt_50\n",
    "    graphs_reduction['edge_compr_gt_50'] = edge_compr_gt_50\n",
    "    graphs_reduction['node_compr_btw_30_50'] = node_compr_btw_30_50\n",
    "    graphs_reduction['edge_compr_btw_30_50'] = edge_compr_btw_30_50\n",
    "    return graphs_reduction"
   ]
  },
  {
   "cell_type": "code",
   "execution_count": 67,
   "metadata": {},
   "outputs": [],
   "source": [
    "\"\"\"\n",
    "    Check reduction of ZINC graphs\n",
    "\"\"\"\n",
    "ZINC_file = pd.read_csv (r'CompressionMolcules.csv')\n",
    "ZINC_graphs_analysis = checkReduction(ZINC_file, ZINC_graphs, ZINC_reduced_graphs)"
   ]
  },
  {
   "cell_type": "code",
   "execution_count": 68,
   "metadata": {},
   "outputs": [],
   "source": [
    "\"\"\"\n",
    "    Check reduction of MNIST graphs\n",
    "\"\"\"\n",
    "MNIST_file = pd.read_csv (r'CompressionMNIST.csv')\n",
    "MNIST_graphs_analysis = checkReduction(MNIST_file, MNIST_graphs, MNIST_reduced_graphs)"
   ]
  },
  {
   "cell_type": "code",
   "execution_count": 69,
   "metadata": {},
   "outputs": [],
   "source": [
    "\"\"\"\n",
    "    Check reduction of CIFAR10 graphs\n",
    "\"\"\"\n",
    "CIFAR10_file = pd.read_csv (r'CompressionCIFAR10.csv')\n",
    "CIFAR10_graphs_analysis = checkReduction(CIFAR10_file, CIFAR10_graphs, CIFAR10_reduced_graphs)"
   ]
  },
  {
   "cell_type": "code",
   "execution_count": 70,
   "metadata": {},
   "outputs": [],
   "source": [
    "\"\"\"\n",
    "    Check reduction of CLUSTER graphs\n",
    "\"\"\"\n",
    "CLUSTER_file = pd.read_csv (r'CompressionCLUSTER.csv')\n",
    "CLUSTER_graphs_analysis = checkReduction(CLUSTER_file, SBM_CLUSTER_graphs, CLUSTER_reduced_graphs)"
   ]
  },
  {
   "cell_type": "code",
   "execution_count": 71,
   "metadata": {},
   "outputs": [],
   "source": [
    "\"\"\"\n",
    "    Check reduction of PATTERN graphs\n",
    "\"\"\"\n",
    "PATTERN_file = pd.read_csv (r'CompressionPATTERN.csv')\n",
    "PATTERN_graphs_analysis = checkReduction(PATTERN_file, SBM_PATTERN_graphs, PATTERN_reduced_graphs)"
   ]
  },
  {
   "cell_type": "code",
   "execution_count": 72,
   "metadata": {},
   "outputs": [
    {
     "name": "stdout",
     "output_type": "stream",
     "text": [
      "# gaphs edge_compr_btw_30_50 =  1065\n",
      "# gaphs edge_compr_gt_50 =  79\n",
      "# gaphs node_compr_btw_30_50 =  86\n",
      "# gaphs node_compr_gt_50 =  16\n"
     ]
    }
   ],
   "source": [
    "import pprint\n",
    "print('# gaphs edge_compr_btw_30_50 = ', len(ZINC_graphs_analysis['edge_compr_btw_30_50']))\n",
    "print('# gaphs edge_compr_gt_50 = ', len(ZINC_graphs_analysis['edge_compr_gt_50']))\n",
    "print('# gaphs node_compr_btw_30_50 = ', len(ZINC_graphs_analysis['node_compr_btw_30_50']))\n",
    "print('# gaphs node_compr_gt_50 = ', len(ZINC_graphs_analysis['node_compr_gt_50']))\n",
    "# pprint.pprint(ZINC_graphs_analysis)"
   ]
  },
  {
   "cell_type": "code",
   "execution_count": 73,
   "metadata": {},
   "outputs": [
    {
     "name": "stdout",
     "output_type": "stream",
     "text": [
      "# gaphs edge_compr_btw_30_50 =  0\n",
      "# gaphs edge_compr_gt_50 =  0\n",
      "# gaphs node_compr_btw_30_50 =  0\n",
      "# gaphs node_compr_gt_50 =  0\n"
     ]
    }
   ],
   "source": [
    "print('# gaphs edge_compr_btw_30_50 = ', len(MNIST_graphs_analysis['edge_compr_btw_30_50']))\n",
    "print('# gaphs edge_compr_gt_50 = ', len(MNIST_graphs_analysis['edge_compr_gt_50']))\n",
    "print('# gaphs node_compr_btw_30_50 = ', len(MNIST_graphs_analysis['node_compr_btw_30_50']))\n",
    "print('# gaphs node_compr_gt_50 = ', len(MNIST_graphs_analysis['node_compr_gt_50']))\n",
    "# pprint.pprint(MNIST_graphs_analysis)"
   ]
  },
  {
   "cell_type": "code",
   "execution_count": 74,
   "metadata": {},
   "outputs": [
    {
     "name": "stdout",
     "output_type": "stream",
     "text": [
      "# gaphs edge_compr_btw_30_50 =  0\n",
      "# gaphs edge_compr_gt_50 =  0\n",
      "# gaphs node_compr_btw_30_50 =  0\n",
      "# gaphs node_compr_gt_50 =  0\n"
     ]
    }
   ],
   "source": [
    "print('# gaphs edge_compr_btw_30_50 = ', len(CIFAR10_graphs_analysis['edge_compr_btw_30_50']))\n",
    "print('# gaphs edge_compr_gt_50 = ', len(CIFAR10_graphs_analysis['edge_compr_gt_50']))\n",
    "print('# gaphs node_compr_btw_30_50 = ', len(CIFAR10_graphs_analysis['node_compr_btw_30_50']))\n",
    "print('# gaphs node_compr_gt_50 = ', len(CIFAR10_graphs_analysis['node_compr_gt_50']))\n",
    "# pprint.pprint(CIFAR10_graphs_analysis)"
   ]
  },
  {
   "cell_type": "code",
   "execution_count": 75,
   "metadata": {},
   "outputs": [
    {
     "name": "stdout",
     "output_type": "stream",
     "text": [
      "# gaphs edge_compr_btw_30_50 =  0\n",
      "# gaphs edge_compr_gt_50 =  0\n",
      "# gaphs node_compr_btw_30_50 =  0\n",
      "# gaphs node_compr_gt_50 =  0\n"
     ]
    }
   ],
   "source": [
    "print('# gaphs edge_compr_btw_30_50 = ', len(CLUSTER_graphs_analysis['edge_compr_btw_30_50']))\n",
    "print('# gaphs edge_compr_gt_50 = ', len(CLUSTER_graphs_analysis['edge_compr_gt_50']))\n",
    "print('# gaphs node_compr_btw_30_50 = ', len(CLUSTER_graphs_analysis['node_compr_btw_30_50']))\n",
    "print('# gaphs node_compr_gt_50 = ', len(CLUSTER_graphs_analysis['node_compr_gt_50']))\n",
    "# pprint.pprint(CLUSTER_graphs_analysis)"
   ]
  },
  {
   "cell_type": "code",
   "execution_count": 76,
   "metadata": {},
   "outputs": [
    {
     "name": "stdout",
     "output_type": "stream",
     "text": [
      "# gaphs edge_compr_btw_30_50 =  0\n",
      "# gaphs edge_compr_gt_50 =  0\n",
      "# gaphs node_compr_btw_30_50 =  0\n",
      "# gaphs node_compr_gt_50 =  0\n"
     ]
    }
   ],
   "source": [
    "print('# gaphs edge_compr_btw_30_50 = ', len(PATTERN_graphs_analysis['edge_compr_btw_30_50']))\n",
    "print('# gaphs edge_compr_gt_50 = ', len(PATTERN_graphs_analysis['edge_compr_gt_50']))\n",
    "print('# gaphs node_compr_btw_30_50 = ', len(PATTERN_graphs_analysis['node_compr_btw_30_50']))\n",
    "print('# gaphs node_compr_gt_50 = ', len(PATTERN_graphs_analysis['node_compr_gt_50']))\n",
    "# pprint.pprint(PATTERN_graphs_analysis)"
   ]
  },
  {
   "cell_type": "code",
   "execution_count": null,
   "metadata": {},
   "outputs": [],
   "source": []
  }
 ],
 "metadata": {
  "kernelspec": {
   "display_name": "Python 3",
   "language": "python",
   "name": "python3"
  },
  "language_info": {
   "codemirror_mode": {
    "name": "ipython",
    "version": 3
   },
   "file_extension": ".py",
   "mimetype": "text/x-python",
   "name": "python",
   "nbconvert_exporter": "python",
   "pygments_lexer": "ipython3",
   "version": "3.8.3"
  }
 },
 "nbformat": 4,
 "nbformat_minor": 4
}
