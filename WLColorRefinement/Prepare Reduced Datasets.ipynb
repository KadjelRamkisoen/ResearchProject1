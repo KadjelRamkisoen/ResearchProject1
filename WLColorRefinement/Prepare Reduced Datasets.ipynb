{
 "cells": [
  {
   "cell_type": "code",
   "execution_count": 1,
   "metadata": {},
   "outputs": [
    {
     "name": "stderr",
     "output_type": "stream",
     "text": [
      "Using backend: pytorch\n"
     ]
    }
   ],
   "source": [
    "import networkx as nx\n",
    "import numpy as np\n",
    "import pickle\n",
    "from pathlib import Path\n",
    "import os\n",
    "import torch\n",
    "import time\n",
    "import dgl\n",
    "import csv\n",
    "import pandas as pd\n",
    "import matplotlib.pyplot as plt\n",
    "from data.molecules import MoleculeDataset"
   ]
  },
  {
   "cell_type": "code",
   "execution_count": 110,
   "metadata": {},
   "outputs": [],
   "source": [
    "\"\"\"\n",
    "    super_node(dgl.DGLgraph)\n",
    "    \n",
    "    Function to create a supernode\n",
    "    The idea is to have a function that iterates over the graph and\n",
    "    finds the nodes with the same colors and then places them in one supernode.\n",
    "    \n",
    "    super_node = {\n",
    "        color: {\n",
    "            node: list()\n",
    "        }\n",
    "    }\n",
    "    \n",
    "    For the reduced graph the original features are necessary, so these have to be saved and passed along.\n",
    "    These are stored in super_node_ori_feat.\n",
    "    \n",
    "    super_node_ori_feat = {\n",
    "        color: {\n",
    "            'original feat':\n",
    "            'nr_nodes'\n",
    "        }\n",
    "    }\n",
    "    \n",
    "    The logic highly depends on the ordering of the colors and nodes. The i-th color in the colors array belongs\n",
    "    to the i-th node in the nodes array.\n",
    "\"\"\"\n",
    "def super_node(graph):\n",
    "    # Initialize super_node dictionary\n",
    "    super_node = {}\n",
    "    \n",
    "    # Initialize super_node dictionary for the original features and nr_nodes\n",
    "    super_node_ori_feat = {}\n",
    "    \n",
    "    # The ['feat'] array contains the wl coloring\n",
    "    colors = graph.ndata['feat'].numpy()\n",
    "    \n",
    "    # The node numbers are retrieved from the graph\n",
    "    nodes = graph.nodes().numpy()\n",
    "    \n",
    "    #Added\n",
    "    # The original features from the original graph\n",
    "    orignal_feat = graph.ndata['original_feat'].numpy()\n",
    "    \n",
    "    count = len(colors)\n",
    "    i = 0\n",
    "    while i < count:\n",
    "        if colors[i] not in super_node:\n",
    "            # For each color in the colors array, add it to the super_node and the super_node_ori_feat\n",
    "            super_node[colors[i]] = dict()\n",
    "            super_node_ori_feat[colors[i]] = dict()\n",
    "            \n",
    "        # Add the node that has the color to the super_node\n",
    "        super_node[colors[i]][nodes[i]] = list()\n",
    "        \n",
    "        #Added\n",
    "        # Add the orignal feature of the node to super_node_ori_feat\n",
    "        super_node_ori_feat[colors[i]]['original_feat'] = orignal_feat[i]\n",
    "        i += 1\n",
    "        \n",
    "    #Added\n",
    "    for color in super_node:\n",
    "        nr_nodes = len(super_node[color])\n",
    "        super_node_ori_feat[color]['nr_nodes'] = nr_nodes\n",
    "        \n",
    "    return super_node, super_node_ori_feat"
   ]
  },
  {
   "cell_type": "code",
   "execution_count": 64,
   "metadata": {},
   "outputs": [],
   "source": [
    "\"\"\"\n",
    "    Create_edge_list(dgl.DGLgraph)\n",
    "    \n",
    "    Function to create a list with (source node, destination node)\n",
    "\"\"\"\n",
    "def create_edge_list(graph):\n",
    "    src_edges = graph.edges(form='uv', order='srcdst')[0].numpy()\n",
    "    dst_edges = graph.edges(form='uv', order='srcdst')[1].numpy()\n",
    "    \n",
    "    concat_edges = list()\n",
    "    for i in range(0, len(src_edges)):\n",
    "        sub_list = list()\n",
    "        sub_list.append(src_edges[i])\n",
    "        sub_list.append(dst_edges[i])\n",
    "        concat_edges.append(sub_list)\n",
    "    return concat_edges "
   ]
  },
  {
   "cell_type": "code",
   "execution_count": 65,
   "metadata": {},
   "outputs": [],
   "source": [
    "\"\"\"\n",
    "    super_edge(list, dict)\n",
    "    \n",
    "    Function to find the edges between supernodes.\n",
    "    Make sure that the the src_edges of the create_edge_list function is sorted from low to high.\n",
    "    \n",
    "    super_node = {\n",
    "        color: {\n",
    "            node: [edges]\n",
    "        }\n",
    "    }\n",
    "\"\"\"\n",
    "def super_edge(edges, super_node):\n",
    "    for color in super_node:\n",
    "        for node in super_node[color]:\n",
    "            for edge in edges:\n",
    "                if node == edge[0]:\n",
    "                    super_node[color][node].append(edge)\n",
    "                elif node < edge[0]:\n",
    "                    break\n",
    "    return (super_node)"
   ]
  },
  {
   "cell_type": "code",
   "execution_count": 66,
   "metadata": {},
   "outputs": [],
   "source": [
    "\"\"\"\n",
    "    create_mapping(dict)\n",
    "    @super_node - the supernode with original nodes added to it and a list of original edges\n",
    "    \n",
    "    Create a mapping from one nodes to super nodes.\n",
    "\"\"\"\n",
    "def create_mapping(super_node):\n",
    "    mapping = {}\n",
    "    for color in super_node:\n",
    "        for node in super_node[color]:\n",
    "            mapping[node] = color\n",
    "    return mapping"
   ]
  },
  {
   "cell_type": "code",
   "execution_count": 84,
   "metadata": {},
   "outputs": [],
   "source": [
    "\"\"\"\n",
    "    prepare_DGLgraph(dict, dict)\n",
    "    \n",
    "    Prepare a DGLgraph with the following steps:\n",
    "        1. Overwrite the original node with the color of the supernode\n",
    "        2. Calculate and add the weights to the edges\n",
    "           The weight of the edge is the total of edges that go from one node within the supernode \n",
    "           to another node in another supernode. If the number of edges from each node going out are not the same, \n",
    "           the smallest common value is taken.\n",
    "\"\"\"\n",
    "import pprint\n",
    "\n",
    "def prepare_DGLgraph(super_node, mapping):\n",
    "    print('Super Node:')\n",
    "    pprint.pprint(super_node)\n",
    "    super_node_reformat = {}\n",
    "    for color, nodes in super_node.items():\n",
    "        super_node_reformat[color] = {}\n",
    "        for node, edges in nodes.items():\n",
    "            super_node_reformat[color][node] = {}\n",
    "            super_node_reformat[color][node]['edges'] = edges\n",
    "            super_node_reformat[color][node]['weights'] = {}\n",
    "            i = 0\n",
    "            while i < len(edges):\n",
    "                mapping_src = mapping[edges[i][0]]\n",
    "                mapping_dst = mapping[edges[i][1]]\n",
    "                super_node[color][node][i][0] = mapping_src               \n",
    "                super_node[color][node][i][1] = mapping_dst\n",
    "                i += 1 \n",
    "            \n",
    "                weights = super_node_reformat[color][node]['weights']\n",
    "                \n",
    "                if mapping_dst not in weights:\n",
    "                    weights[mapping_dst] = 1\n",
    "                else:\n",
    "                    weights[mapping_dst] += 1\n",
    "    weights, src_edges, dst_edges = calc_weights(super_node_reformat)\n",
    "    \n",
    "#     for i in super_node_reformat:\n",
    "#         print('{')\n",
    "#         print('Super node: ', i)\n",
    "#         for j in super_node_reformat[i]:\n",
    "#             print('Node: ', j)\n",
    "#             print('Node data: ', super_node_reformat[i][j])\n",
    "#         print('}')\n",
    "#         print('\\n')\n",
    "    print('\\nSuper Node Reformat')\n",
    "    pprint.pprint(super_node_reformat)\n",
    "    return super_node_reformat, src_edges, dst_edges, weights\n",
    "\n"
   ]
  },
  {
   "cell_type": "code",
   "execution_count": 68,
   "metadata": {},
   "outputs": [],
   "source": [
    "\"\"\"\n",
    "    final_weights(dict)\n",
    "    \n",
    "    Function to calculate the final weights for the super edges\n",
    "\"\"\"\n",
    "def calc_weights(graph):\n",
    "    weights_list = list()\n",
    "    src_edges = list()\n",
    "    dst_edges = list()\n",
    "    \n",
    "    for color in graph:\n",
    "        # If the there is only one node in the supernode, then just add the weight from the 'weight' attribute\n",
    "        if len(graph[color]) == 1:\n",
    "            for node in graph[color]:\n",
    "                for weight in graph[color][node]['weights']:\n",
    "                    weights_list.append(graph[color][node]['weights'][weight])\n",
    "                    src_edges.append(color)\n",
    "                    dst_edges.append(weight)\n",
    "        # If there are more nodes in the supernode, then check whether they all have outgoing edges to the same supernodes\n",
    "        else:\n",
    "            x = list()\n",
    "            src_nodes = list()\n",
    "            dst_nodes = list()\n",
    "            for node in graph[color]:\n",
    "                #Add all the weights for each node to the list x\n",
    "                x.append(graph[color][node]['weights'])\n",
    "                for w in graph[color][node]['weights']:\n",
    "                    src_nodes.append(color)\n",
    "                    dst_nodes.append(w)\n",
    "            # Take the first value in the list x\n",
    "            x_1 = x[0]\n",
    "\n",
    "            i = 1\n",
    "            # Check if all the edges within x_1 are also in the other lists in x\n",
    "            for weight in x_1:\n",
    "                while i < len(x):\n",
    "                    # If the the edges from x_1 are in the next list in x, then check the weight\n",
    "                    if weight in x[i]:\n",
    "                        # Store the smallest weight value. There will be no edge is there is only one occurence of the edge in the list\n",
    "                        if x[i][weight] >= x_1[weight]:\n",
    "                            weights_list.append(x_1[weight])\n",
    "                            src_edges.append(src_nodes[i])\n",
    "                            dst_edges.append(dst_nodes[i])\n",
    "                        elif x[i][weight] < x_1[weight]:\n",
    "                            weights_list.append(x[i][weight])\n",
    "                            src_edges.append(src_nodes[i])\n",
    "                            dst_edges.append(dst_nodes[i])\n",
    "                    i += 1\n",
    "    return weights_list, src_edges, dst_edges"
   ]
  },
  {
   "cell_type": "code",
   "execution_count": 118,
   "metadata": {},
   "outputs": [],
   "source": [
    "\"\"\"\n",
    "    create_DGLGraph(list, list, list)\n",
    "    \n",
    "\"\"\"\n",
    "def create_DGLGraph(src_nodes, dst_nodes, edata, mapping, superNodeOriFeat):\n",
    "    src_nodes = torch.tensor(src_nodes)\n",
    "    dst_nodes = torch.tensor(dst_nodes)\n",
    "    edata = torch.tensor(edata)\n",
    "    ndata = list()\n",
    "    ndata2 = list()\n",
    "    \n",
    "    reduced_graph = dgl.graph((src_nodes, dst_nodes))\n",
    "    reduced_graph.edata['feat'] = edata\n",
    "    \n",
    "    i = 0\n",
    "    while i < len(reduced_graph.nodes()):\n",
    "        #Added\n",
    "        ndata.append(superNodeOriFeat[mapping[i]]['original_feat'])\n",
    "        ndata2.append(superNodeOriFeat[mapping[i]]['nr_nodes'])\n",
    "        i += 1\n",
    "    \n",
    "    #Added\n",
    "    reduced_graph.ndata['feat'] = torch.tensor(ndata)\n",
    "    reduced_graph.ndata['nr_nodes'] = torch.tensor(ndata2)\n",
    "    \n",
    "    return reduced_graph"
   ]
  },
  {
   "cell_type": "code",
   "execution_count": 100,
   "metadata": {},
   "outputs": [],
   "source": [
    "def reduced_graph(colored_graphs): \n",
    "    reduced_graphs_list = list()\n",
    "    for i in range(len(colored_graphs)):\n",
    "        graph = colored_graphs[i]\n",
    "        superNode, superNodeOriFeat = super_node(graph)\n",
    "        edges = create_edge_list(graph)\n",
    "        superNode = super_edge(edges, superNode)\n",
    "        node_color_mapping = create_mapping(superNode)\n",
    "        prep_graph = prepare_DGLgraph(superNode, node_color_mapping)\n",
    "\n",
    "        color_node_mapping = {}\n",
    "        count = 0\n",
    "        for i in node_color_mapping:\n",
    "            if node_color_mapping[i] not in color_node_mapping:\n",
    "                color_node_mapping[node_color_mapping[i]] = count\n",
    "                count += 1\n",
    "\n",
    "        src_nodes = list()\n",
    "        dst_nodes = list()\n",
    "        \n",
    "        i = 0\n",
    "        while i < len(prep_graph[1]):\n",
    "            src_nodes.append(color_node_mapping[prep_graph[1][i]])\n",
    "            dst_nodes.append(color_node_mapping[prep_graph[2][i]])\n",
    "            i += 1\n",
    "        \n",
    "        reduced_graphs_list.append(\n",
    "            create_DGLGraph(\n",
    "                src_nodes, dst_nodes, prep_graph[3], node_color_mapping, superNodeOriFeat\n",
    "            )\n",
    "        )\n",
    "    return reduced_graphs_list\n"
   ]
  },
  {
   "cell_type": "code",
   "execution_count": 2,
   "metadata": {},
   "outputs": [
    {
     "name": "stdout",
     "output_type": "stream",
     "text": [
      "[I] Loading dataset ZINC...\n",
      "train, test, val sizes : 10000 1000 1000\n",
      "[I] Finished loading.\n",
      "[I] Data load time: 14.1950s\n"
     ]
    }
   ],
   "source": [
    "ZINC_graphs = MoleculeDataset('ZINC')"
   ]
  },
  {
   "cell_type": "code",
   "execution_count": 11,
   "metadata": {},
   "outputs": [],
   "source": [
    "ZINC_graphs_copy = ZINC_graphs\n",
    "\n",
    "for graph in ZINC_graphs_copy.train:\n",
    "    original_feat = graph.__getitem__(0).ndata['feat']\n",
    "    graph.__getitem__(0).ndata['original_feat'] = original_feat"
   ]
  },
  {
   "cell_type": "code",
   "execution_count": 25,
   "metadata": {},
   "outputs": [],
   "source": [
    "# Get the orignals labels from the ZINC dataset\n",
    "graph = ZINC_graphs.train.__getitem__(0)[0]"
   ]
  },
  {
   "cell_type": "code",
   "execution_count": 26,
   "metadata": {},
   "outputs": [],
   "source": [
    "import WLColorRefinement as wl"
   ]
  },
  {
   "cell_type": "code",
   "execution_count": 28,
   "metadata": {},
   "outputs": [],
   "source": [
    "colored_graph = wl.wl_coloring(graph)"
   ]
  },
  {
   "cell_type": "code",
   "execution_count": 30,
   "metadata": {},
   "outputs": [
    {
     "name": "stdout",
     "output_type": "stream",
     "text": [
      "{'original_feat': tensor([0, 1, 0, 0, 0, 0, 0, 0, 0, 1, 0, 0, 2, 0, 0, 2, 5, 1, 1, 0, 0, 2, 0, 0,\n",
      "        0, 0, 0, 0, 0]), 'feat': tensor([238, 241, 257, 251, 248, 246, 249, 252, 250, 240, 256, 260, 243, 236,\n",
      "        237, 245, 247, 242, 242, 258, 235, 244, 239, 259, 254, 237, 236, 255,\n",
      "        253], dtype=torch.int32)}\n"
     ]
    }
   ],
   "source": [
    "print(colored_graph.ndata)"
   ]
  },
  {
   "cell_type": "code",
   "execution_count": 31,
   "metadata": {},
   "outputs": [],
   "source": [
    "import create_reduced_graph as crg"
   ]
  },
  {
   "cell_type": "code",
   "execution_count": 119,
   "metadata": {
    "scrolled": false
   },
   "outputs": [
    {
     "name": "stdout",
     "output_type": "stream",
     "text": [
      "Super Node:\n",
      "{235: {20: [[20, 19], [20, 21]]},\n",
      " 236: {13: [[13, 12], [13, 14]], 26: [[26, 12], [26, 25]]},\n",
      " 237: {14: [[14, 13], [14, 15]], 25: [[25, 15], [25, 26]]},\n",
      " 238: {0: [[0, 1]]},\n",
      " 239: {22: [[22, 21]]},\n",
      " 240: {9: [[9, 8]]},\n",
      " 241: {1: [[1, 0], [1, 2]]},\n",
      " 242: {17: [[17, 16]], 18: [[18, 16]]},\n",
      " 243: {12: [[12, 11], [12, 13], [12, 26]]},\n",
      " 244: {21: [[21, 20], [21, 22], [21, 23]]},\n",
      " 245: {15: [[15, 14], [15, 16], [15, 25]]},\n",
      " 246: {5: [[5, 4], [5, 6], [5, 27]]},\n",
      " 247: {16: [[16, 15], [16, 17], [16, 18], [16, 19]]},\n",
      " 248: {4: [[4, 3], [4, 5]]},\n",
      " 249: {6: [[6, 5], [6, 7]]},\n",
      " 250: {8: [[8, 7], [8, 9], [8, 10]]},\n",
      " 251: {3: [[3, 2], [3, 4]]},\n",
      " 252: {7: [[7, 6], [7, 8]]},\n",
      " 253: {28: [[28, 2], [28, 27]]},\n",
      " 254: {24: [[24, 19], [24, 23]]},\n",
      " 255: {27: [[27, 5], [27, 10], [27, 28]]},\n",
      " 256: {10: [[10, 8], [10, 11], [10, 27]]},\n",
      " 257: {2: [[2, 1], [2, 3], [2, 28]]},\n",
      " 258: {19: [[19, 16], [19, 20], [19, 24]]},\n",
      " 259: {23: [[23, 21], [23, 24]]},\n",
      " 260: {11: [[11, 10], [11, 12]]}}\n",
      "\n",
      "Super Node Reformat\n",
      "{235: {20: {'edges': [[235, 258], [235, 244]], 'weights': {244: 1, 258: 1}}},\n",
      " 236: {13: {'edges': [[236, 243], [236, 237]], 'weights': {237: 1, 243: 1}},\n",
      "       26: {'edges': [[236, 243], [236, 237]], 'weights': {237: 1, 243: 1}}},\n",
      " 237: {14: {'edges': [[237, 236], [237, 245]], 'weights': {236: 1, 245: 1}},\n",
      "       25: {'edges': [[237, 245], [237, 236]], 'weights': {236: 1, 245: 1}}},\n",
      " 238: {0: {'edges': [[238, 241]], 'weights': {241: 1}}},\n",
      " 239: {22: {'edges': [[239, 244]], 'weights': {244: 1}}},\n",
      " 240: {9: {'edges': [[240, 250]], 'weights': {250: 1}}},\n",
      " 241: {1: {'edges': [[241, 238], [241, 257]], 'weights': {238: 1, 257: 1}}},\n",
      " 242: {17: {'edges': [[242, 247]], 'weights': {247: 1}},\n",
      "       18: {'edges': [[242, 247]], 'weights': {247: 1}}},\n",
      " 243: {12: {'edges': [[243, 260], [243, 236], [243, 236]],\n",
      "            'weights': {236: 2, 260: 1}}},\n",
      " 244: {21: {'edges': [[244, 235], [244, 239], [244, 259]],\n",
      "            'weights': {235: 1, 239: 1, 259: 1}}},\n",
      " 245: {15: {'edges': [[245, 237], [245, 247], [245, 237]],\n",
      "            'weights': {237: 2, 247: 1}}},\n",
      " 246: {5: {'edges': [[246, 248], [246, 249], [246, 255]],\n",
      "           'weights': {248: 1, 249: 1, 255: 1}}},\n",
      " 247: {16: {'edges': [[247, 245], [247, 242], [247, 242], [247, 258]],\n",
      "            'weights': {242: 2, 245: 1, 258: 1}}},\n",
      " 248: {4: {'edges': [[248, 251], [248, 246]], 'weights': {246: 1, 251: 1}}},\n",
      " 249: {6: {'edges': [[249, 246], [249, 252]], 'weights': {246: 1, 252: 1}}},\n",
      " 250: {8: {'edges': [[250, 252], [250, 240], [250, 256]],\n",
      "           'weights': {240: 1, 252: 1, 256: 1}}},\n",
      " 251: {3: {'edges': [[251, 257], [251, 248]], 'weights': {248: 1, 257: 1}}},\n",
      " 252: {7: {'edges': [[252, 249], [252, 250]], 'weights': {249: 1, 250: 1}}},\n",
      " 253: {28: {'edges': [[253, 257], [253, 255]], 'weights': {255: 1, 257: 1}}},\n",
      " 254: {24: {'edges': [[254, 258], [254, 259]], 'weights': {258: 1, 259: 1}}},\n",
      " 255: {27: {'edges': [[255, 246], [255, 256], [255, 253]],\n",
      "            'weights': {246: 1, 253: 1, 256: 1}}},\n",
      " 256: {10: {'edges': [[256, 250], [256, 260], [256, 255]],\n",
      "            'weights': {250: 1, 255: 1, 260: 1}}},\n",
      " 257: {2: {'edges': [[257, 241], [257, 251], [257, 253]],\n",
      "           'weights': {241: 1, 251: 1, 253: 1}}},\n",
      " 258: {19: {'edges': [[258, 247], [258, 235], [258, 254]],\n",
      "            'weights': {235: 1, 247: 1, 254: 1}}},\n",
      " 259: {23: {'edges': [[259, 244], [259, 254]], 'weights': {244: 1, 254: 1}}},\n",
      " 260: {11: {'edges': [[260, 256], [260, 243]], 'weights': {243: 1, 256: 1}}}}\n",
      "reduced_graph.nodes =  tensor([ 0,  1,  2,  3,  4,  5,  6,  7,  8,  9, 10, 11, 12, 13, 14, 15, 16, 17,\n",
      "        18, 19, 20, 21, 22, 23, 24, 25])\n",
      "super node ori-feat\n",
      "{235: {'nr_nodes': 1, 'original_feat': 0},\n",
      " 236: {'nr_nodes': 2, 'original_feat': 0},\n",
      " 237: {'nr_nodes': 2, 'original_feat': 0},\n",
      " 238: {'nr_nodes': 1, 'original_feat': 0},\n",
      " 239: {'nr_nodes': 1, 'original_feat': 0},\n",
      " 240: {'nr_nodes': 1, 'original_feat': 1},\n",
      " 241: {'nr_nodes': 1, 'original_feat': 1},\n",
      " 242: {'nr_nodes': 2, 'original_feat': 1},\n",
      " 243: {'nr_nodes': 1, 'original_feat': 2},\n",
      " 244: {'nr_nodes': 1, 'original_feat': 2},\n",
      " 245: {'nr_nodes': 1, 'original_feat': 2},\n",
      " 246: {'nr_nodes': 1, 'original_feat': 0},\n",
      " 247: {'nr_nodes': 1, 'original_feat': 5},\n",
      " 248: {'nr_nodes': 1, 'original_feat': 0},\n",
      " 249: {'nr_nodes': 1, 'original_feat': 0},\n",
      " 250: {'nr_nodes': 1, 'original_feat': 0},\n",
      " 251: {'nr_nodes': 1, 'original_feat': 0},\n",
      " 252: {'nr_nodes': 1, 'original_feat': 0},\n",
      " 253: {'nr_nodes': 1, 'original_feat': 0},\n",
      " 254: {'nr_nodes': 1, 'original_feat': 0},\n",
      " 255: {'nr_nodes': 1, 'original_feat': 0},\n",
      " 256: {'nr_nodes': 1, 'original_feat': 0},\n",
      " 257: {'nr_nodes': 1, 'original_feat': 0},\n",
      " 258: {'nr_nodes': 1, 'original_feat': 0},\n",
      " 259: {'nr_nodes': 1, 'original_feat': 0},\n",
      " 260: {'nr_nodes': 1, 'original_feat': 0}}\n",
      "ndata:  [0, 1, 0, 0, 0, 0, 0, 0, 0, 1, 0, 0, 2, 0, 0, 2, 5, 1, 1, 0, 0, 2, 0, 0, 0, 0]\n"
     ]
    }
   ],
   "source": [
    "colored_graphs_list = list()\n",
    "colored_graphs_list.append(colored_graph)\n",
    "r_graph = reduced_graph(colored_graphs_list)"
   ]
  },
  {
   "cell_type": "code",
   "execution_count": 127,
   "metadata": {},
   "outputs": [],
   "source": [
    "\"\"\"\n",
    "    Funtion to draw the graph\\n\",\n",
    "\"\"\"\n",
    "def drawGraph(G):\n",
    "    nx_G = G.to_networkx().to_undirected()\n",
    "    pos = nx.kamada_kawai_layout(nx_G)\n",
    "    nx.draw(nx_G, pos, with_labels=True, node_color=G.ndata['feat'])"
   ]
  },
  {
   "cell_type": "code",
   "execution_count": 122,
   "metadata": {},
   "outputs": [
    {
     "data": {
      "image/png": "[encoded data removed]",
      "text/plain": [
       "<Figure size 432x288 with 1 Axes>"
      ]
     },
     "metadata": {},
     "output_type": "display_data"
    }
   ],
   "source": [
    "drawGraph(graph)"
   ]
  },
  {
   "cell_type": "code",
   "execution_count": 128,
   "metadata": {},
   "outputs": [
    {
     "data": {
      "image/png": "[encoded data removed]",
      "text/plain": [
       "<Figure size 432x288 with 1 Axes>"
      ]
     },
     "metadata": {},
     "output_type": "display_data"
    }
   ],
   "source": [
    "drawGraph(r_graph[0])"
   ]
  },
  {
   "cell_type": "code",
   "execution_count": null,
   "metadata": {},
   "outputs": [],
   "source": []
  }
 ],
 "metadata": {
  "kernelspec": {
   "display_name": "Python 3",
   "language": "python",
   "name": "python3"
  },
  "language_info": {
   "codemirror_mode": {
    "name": "ipython",
    "version": 3
   },
   "file_extension": ".py",
   "mimetype": "text/x-python",
   "name": "python",
   "nbconvert_exporter": "python",
   "pygments_lexer": "ipython3",
   "version": "3.8.3"
  }
 },
 "nbformat": 4,
 "nbformat_minor": 4
}
