{
 "cells": [
  {
   "cell_type": "code",
   "execution_count": 1,
   "metadata": {},
   "outputs": [
    {
     "name": "stderr",
     "output_type": "stream",
     "text": [
      "Using backend: pytorch\n"
     ]
    }
   ],
   "source": [
    "#List of imports\n",
    "\n",
    "import networkx as nx\n",
    "import numpy as np\n",
    "import pickle\n",
    "from pathlib import Path\n",
    "import os\n",
    "import torch\n",
    "import time\n",
    "import dgl\n",
    "import WLColorRefinement as wl\n",
    "import CSL_data\n"
   ]
  },
  {
   "cell_type": "code",
   "execution_count": 18,
   "metadata": {},
   "outputs": [
    {
     "data": {
      "image/png": "[encoded data removed]",
      "text/plain": [
       "<Figure size 432x288 with 1 Axes>"
      ]
     },
     "metadata": {},
     "output_type": "display_data"
    }
   ],
   "source": [
    "#Get the CSL graphs\n",
    "CSL_graphs = CSL_data.get_CSL_graphs()\n",
    "\n",
    "G = nx.path_graph(15)\n",
    "mapping = {i: j for i, j in zip(\n",
    "    range(10), np.random.permutation(range(10)))}\n",
    "H = nx.relabel_nodes(G, mapping)\n",
    "\n",
    "G = dgl.from_networkx(G)\n",
    "H = dgl.from_networkx(H)\n",
    "\n",
    "wl.is_possibly_isomorphic(G,H)\n",
    "\n",
    "# for i in CSL_graphs:\n",
    "#     wl.is_possibly_isomorphic(i) # True\n",
    "\n",
    "\"\"\"\n",
    "    Funtion to draw the graph\n",
    "\"\"\"\n",
    "nx_G = G.to_networkx().to_undirected()\n",
    "pos = nx.kamada_kawai_layout(nx_G)\n",
    "nx.draw(nx_G, pos, with_labels=True, node_color=G.ndata['color'] )"
   ]
  },
  {
   "cell_type": "code",
   "execution_count": 19,
   "metadata": {},
   "outputs": [
    {
     "name": "stdout",
     "output_type": "stream",
     "text": [
      "52\n",
      "53\n",
      "54\n",
      "55\n",
      "56\n",
      "57\n",
      "58\n",
      "59\n",
      "58\n",
      "57\n",
      "56\n",
      "55\n",
      "54\n",
      "53\n",
      "52\n"
     ]
    }
   ],
   "source": [
    "\"\"\"\n",
    "    Function to create a supernode\n",
    "    The idea is to have a function that iterates over the graph\n",
    "    finds the nodes with the same colors and then places them in one supernode\n",
    "\n",
    "    Input - dglGraph with colored nodes\n",
    "    Output - dglGraph with supernodes\n",
    "\"\"\"\n",
    "\n",
    "super_node = {}\n",
    "colors = G.ndata['color'].numpy()\n",
    "count = 0\n",
    "for color in colors:\n",
    "    print (color)\n",
    "    if color not in super_node:\n",
    "        super_node[color]=list()\n",
    "    super_node[color].append(count)\n",
    "    count=count+1"
   ]
  },
  {
   "cell_type": "code",
   "execution_count": 20,
   "metadata": {},
   "outputs": [
    {
     "name": "stdout",
     "output_type": "stream",
     "text": [
      "{52: [0, 14], 53: [1, 13], 54: [2, 12], 55: [3, 11], 56: [4, 10], 57: [5, 9], 58: [6, 8], 59: [7]}\n"
     ]
    }
   ],
   "source": [
    "\"\"\"\n",
    "    Function to find the edges between supernodes and calculate the weight of the edges.\n",
    "    The weight of the edge is the total of edges that go from one node within the supernode to another node in another supernode.\n",
    "    If the number of edges from each node going out are not the same, the smallest common value is taken.\n",
    "    \n",
    "    Input - dglGraph with colored nodes\n",
    "Output - dglGraph with supernodes\n",
    "\"\"\""
   ]
  }
 ],
 "metadata": {
  "kernelspec": {
   "display_name": "Python 3",
   "language": "python",
   "name": "python3"
  },
  "language_info": {
   "codemirror_mode": {
    "name": "ipython",
    "version": 3
   },
   "file_extension": ".py",
   "mimetype": "text/x-python",
   "name": "python",
   "nbconvert_exporter": "python",
   "pygments_lexer": "ipython3",
   "version": "3.8.3"
  }
 },
 "nbformat": 4,
 "nbformat_minor": 4
}
