{
 "cells": [
  {
   "cell_type": "code",
   "execution_count": 1,
   "metadata": {},
   "outputs": [
    {
     "name": "stderr",
     "output_type": "stream",
     "text": [
      "DGL backend not selected or invalid.  Assuming PyTorch for now.\n",
      "Using backend: pytorch\n"
     ]
    },
    {
     "name": "stdout",
     "output_type": "stream",
     "text": [
      "Setting the default backend to \"pytorch\". You can change it in the ~/.dgl/config.json file or export the DGLBACKEND environment variable.  Valid options are: pytorch, mxnet, tensorflow (all lowercase)\n"
     ]
    }
   ],
   "source": [
    "# Imports\n",
    "import pickle\n",
    "import time\n",
    "import create_reduced_graph as crg\n",
    "import WLColorRefinement as wl\n",
    "from data.molecules import MoleculeDataset"
   ]
  },
  {
   "cell_type": "code",
   "execution_count": 2,
   "metadata": {},
   "outputs": [
    {
     "name": "stdout",
     "output_type": "stream",
     "text": [
      "[I] Loading dataset ZINC...\n",
      "train, test, val sizes : 10000 1000 1000\n",
      "[I] Finished loading.\n",
      "[I] Data load time: 11.4469s\n"
     ]
    }
   ],
   "source": [
    "# Load Original ZINC dataset\n",
    "ZINC_original = MoleculeDataset('ZINC')"
   ]
  },
  {
   "cell_type": "code",
   "execution_count": 3,
   "metadata": {},
   "outputs": [
    {
     "name": "stderr",
     "output_type": "stream",
     "text": [
      "/project/create_reduced_graph.py:323: UserWarning: To copy construct from a tensor, it is recommended to use sourceTensor.clone().detach() or sourceTensor.clone().detach().requires_grad_(True), rather than torch.tensor(sourceTensor).\n",
      "  reduced_graph.ndata['feat'] = torch.tensor(new_features)\n"
     ]
    }
   ],
   "source": [
    "# Reduce ZINC dataset and store in seperate lists\n",
    "ZINC_reduced_train = list()\n",
    "ZINC_reduced_test = list()\n",
    "ZINC_reduced_val = list()\n",
    "    \n",
    "for graph in ZINC_original.train:\n",
    "    graph[0].ndata['original_feat'] = graph[0].ndata['feat']\n",
    "    reduced_graph = crg.reduced_graph(wl.wl_coloring(graph[0]))\n",
    "    ZINC_reduced_train.append((reduced_graph, graph[1]))\n",
    "for graph in ZINC_original.test:\n",
    "    graph[0].ndata['original_feat'] = graph[0].ndata['feat']\n",
    "    reduced_graph = crg.reduced_graph(wl.wl_coloring(graph[0]))\n",
    "    ZINC_reduced_test.append((reduced_graph, graph[1]))\n",
    "for graph in ZINC_original.val:\n",
    "    graph[0].ndata['original_feat'] = graph[0].ndata['feat']\n",
    "    reduced_graph = crg.reduced_graph(wl.wl_coloring(graph[0]))\n",
    "    ZINC_reduced_val.append((reduced_graph, graph[1]))"
   ]
  },
  {
   "cell_type": "code",
   "execution_count": 4,
   "metadata": {},
   "outputs": [],
   "source": [
    "num_atom_type = ZINC_original.num_atom_type\n",
    "num_bond_type = ZINC_original.num_bond_type\n",
    "    \n",
    "with open('ZINC_reduced.pkl', 'wb') as f:\n",
    "    pickle.dump([ZINC_reduced_train, ZINC_reduced_val, ZINC_reduced_test, num_atom_type, num_bond_type], f)"
   ]
  },
  {
   "cell_type": "code",
   "execution_count": 5,
   "metadata": {},
   "outputs": [],
   "source": [
    "# dataset = MoleculeDataset('ZINC_reduced')"
   ]
  },
  {
   "cell_type": "code",
   "execution_count": 6,
   "metadata": {},
   "outputs": [],
   "source": [
    "# ZINC = MoleculeDataset('ZINC_reduced_b_2')"
   ]
  },
  {
   "cell_type": "code",
   "execution_count": 7,
   "metadata": {},
   "outputs": [],
   "source": [
    "# print(ZINC.train[0][0].edges())"
   ]
  },
  {
   "cell_type": "code",
   "execution_count": null,
   "metadata": {},
   "outputs": [],
   "source": []
  }
 ],
 "metadata": {
  "kernelspec": {
   "display_name": "Python 3",
   "language": "python",
   "name": "python3"
  },
  "language_info": {
   "codemirror_mode": {
    "name": "ipython",
    "version": 3
   },
   "file_extension": ".py",
   "mimetype": "text/x-python",
   "name": "python",
   "nbconvert_exporter": "python",
   "pygments_lexer": "ipython3",
   "version": "3.7.6"
  }
 },
 "nbformat": 4,
 "nbformat_minor": 4
}
