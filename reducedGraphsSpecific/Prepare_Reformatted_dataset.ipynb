{
 "cells": [
  {
   "cell_type": "code",
   "execution_count": 1,
   "metadata": {},
   "outputs": [
    {
     "name": "stderr",
     "output_type": "stream",
     "text": [
      "DGL backend not selected or invalid.  Assuming PyTorch for now.\n",
      "Using backend: pytorch\n"
     ]
    },
    {
     "name": "stdout",
     "output_type": "stream",
     "text": [
      "Setting the default backend to \"pytorch\". You can change it in the ~/.dgl/config.json file or export the DGLBACKEND environment variable.  Valid options are: pytorch, mxnet, tensorflow (all lowercase)\n"
     ]
    }
   ],
   "source": [
    "from data.data import LoadData\n",
    "import torch\n",
    "import pickle\n",
    "import time"
   ]
  },
  {
   "cell_type": "code",
   "execution_count": 2,
   "metadata": {},
   "outputs": [],
   "source": [
    "def prepare_original_reformatted_dataset(dataset):\n",
    "    for i,graph in enumerate(dataset.train):\n",
    "        new_features = torch.zeros((graph[0].number_of_nodes(),28))\n",
    "        for j in range(graph[0].number_of_nodes()): \n",
    "            new_feature = torch.zeros(28)\n",
    "            atom_type = int(graph[0].ndata['feat'][j].item())\n",
    "            new_feature[atom_type] = 1\n",
    "#             new_feature[28] = 1\n",
    "            new_features[j] = new_feature\n",
    "        graph[0].ndata['feat'] = new_features     \n",
    "    for i,graph in enumerate(dataset.test):\n",
    "        new_features = torch.zeros((graph[0].number_of_nodes(),28))\n",
    "        for j in range(graph[0].number_of_nodes()): \n",
    "            new_feature = torch.zeros(28)\n",
    "            atom_type = int(graph[0].ndata['feat'][j].item())\n",
    "            new_feature[atom_type] = 1\n",
    "#             new_feature[28] = 1\n",
    "            new_features[j] = new_feature\n",
    "        graph[0].ndata['feat'] = new_features\n",
    "    for i,graph in enumerate(dataset.val):\n",
    "        new_features = torch.zeros((graph[0].number_of_nodes(),28))\n",
    "        for j in range(graph[0].number_of_nodes()): \n",
    "            new_feature = torch.zeros(28)\n",
    "            atom_type = int(graph[0].ndata['feat'][j].item())\n",
    "            new_feature[atom_type] = 1\n",
    "#             new_feature[28] = 1\n",
    "            new_features[j] = new_feature\n",
    "        graph[0].ndata['feat'] = new_features\n",
    "    return dataset\n",
    "\n",
    "def prepare_reduced_reformatted_dataset(dataset):\n",
    "    for i,graph in enumerate(dataset.train):\n",
    "#         new_features = torch.zeros((graph[0].number_of_nodes(),29))\n",
    "        new_features = torch.zeros((graph[0].number_of_nodes(),28))\n",
    "        weight_features = torch.zeros(graph[0].number_of_nodes(),1)\n",
    "#         weight_features = torch.zeros((graph[0].number_of_nodes(),28))\n",
    "        for j in range(graph[0].number_of_nodes()): \n",
    "#             new_feature = torch.zeros(29)\n",
    "#             weight_feature = torch.zeros(28)\n",
    "            new_feature = torch.zeros(28)\n",
    "            atom_type = int(graph[0].ndata['feat'][j][0].item())\n",
    "            new_feature[atom_type] = 1\n",
    "            weight_feature =  graph[0].ndata['feat'][j][1]\n",
    "#             weight_feature[atom_type] = graph[0].ndata['feat'][j][1]\n",
    "#             new_feature[28] = graph[0].ndata['feat'][j][1]\n",
    "            new_features[j] = new_feature\n",
    "            weight_features[j]= weight_feature\n",
    "        graph[0].ndata['feat'] = new_features\n",
    "        graph[0].ndata['weight'] = weight_features\n",
    "        graph[0].edata['feat'] = graph[0].edata['feat'].to(torch.float32)\n",
    "    for i,graph in enumerate(dataset.test):\n",
    "#         new_features = torch.zeros((graph[0].number_of_nodes(),29))\n",
    "        new_features = torch.zeros((graph[0].number_of_nodes(),28))\n",
    "#         weight_features = torch.zeros((graph[0].number_of_nodes(),28))\n",
    "        weight_features = torch.zeros(graph[0].number_of_nodes(),1)\n",
    "        for j in range(graph[0].number_of_nodes()): \n",
    "#             new_feature = torch.zeros(29)\n",
    "            new_feature = torch.zeros(28)\n",
    "#             weight_feature = torch.zeros(28)\n",
    "            atom_type = int(graph[0].ndata['feat'][j][0].item())\n",
    "            new_feature[atom_type] = 1\n",
    "            weight_feature =  graph[0].ndata['feat'][j][1]\n",
    "#             weight_feature[atom_type] = graph[0].ndata['feat'][j][1]\n",
    "#             new_feature[28] = graph[0].ndata['feat'][j][1]\n",
    "            new_features[j] = new_feature\n",
    "            weight_features[j]= weight_feature\n",
    "        graph[0].ndata['feat'] = new_features\n",
    "        graph[0].ndata['weight'] = weight_features\n",
    "        graph[0].edata['feat'] = graph[0].edata['feat'].to(torch.float32)\n",
    "    for i,graph in enumerate(dataset.val):\n",
    "#         new_features = torch.zeros((graph[0].number_of_nodes(),29))\n",
    "        new_features = torch.zeros((graph[0].number_of_nodes(),28))\n",
    "#         weight_features = torch.zeros((graph[0].number_of_nodes(),28))\n",
    "        weight_features = torch.zeros(graph[0].number_of_nodes(),1)\n",
    "        for j in range(graph[0].number_of_nodes()): \n",
    "#             new_feature = torch.zeros(29)\n",
    "#             weight_feature = torch.zeros(28)\n",
    "            new_feature = torch.zeros(28)\n",
    "            atom_type = int(graph[0].ndata['feat'][j][0].item())\n",
    "            new_feature[atom_type] = 1\n",
    "            weight_feature =  graph[0].ndata['feat'][j][1]\n",
    "#             weight_feature[atom_type] = graph[0].ndata['feat'][j][1]\n",
    "#             new_feature[28] = graph[0].ndata['feat'][j][1]\n",
    "            new_features[j] = new_feature\n",
    "            weight_features[j]= weight_feature\n",
    "        graph[0].ndata['feat'] = new_features\n",
    "        graph[0].ndata['weight'] = weight_features\n",
    "        graph[0].edata['feat'] = graph[0].edata['feat'].to(torch.float32)\n",
    "    return dataset"
   ]
  },
  {
   "cell_type": "code",
   "execution_count": 3,
   "metadata": {},
   "outputs": [
    {
     "name": "stdout",
     "output_type": "stream",
     "text": [
      "[I] Loading dataset ZINC...\n",
      "train, test, val sizes : 10000 1000 1000\n",
      "[I] Finished loading.\n",
      "[I] Data load time: 7.8161s\n"
     ]
    }
   ],
   "source": [
    "# dataset = LoadData(\"ZINC_reduced\")\n",
    "dataset = LoadData(\"ZINC\")"
   ]
  },
  {
   "cell_type": "code",
   "execution_count": 4,
   "metadata": {},
   "outputs": [],
   "source": [
    "# dataset_b = prepare_reduced_reformatted_dataset(dataset)\n",
    "dataset_b = prepare_original_reformatted_dataset(dataset)"
   ]
  },
  {
   "cell_type": "code",
   "execution_count": 5,
   "metadata": {},
   "outputs": [],
   "source": [
    "num_atom_type = dataset.num_atom_type\n",
    "num_bond_type = dataset.num_bond_type\n",
    "    \n",
    "with open('data/molecules/ZINC_reformatted.pkl', 'wb') as f:\n",
    "    pickle.dump([dataset_b.train, dataset_b.val, dataset_b.test, num_atom_type, num_bond_type], f)"
   ]
  },
  {
   "cell_type": "code",
   "execution_count": 5,
   "metadata": {},
   "outputs": [],
   "source": [
    "original = torch.tensor([0,1,1,0,2,0,1,1,0])"
   ]
  },
  {
   "cell_type": "code",
   "execution_count": 8,
   "metadata": {},
   "outputs": [],
   "source": [
    "new_features = torch.zeros((9,28))\n",
    "for j in range(9): \n",
    "    new_feature = torch.zeros(28)\n",
    "    atom_type = int(original[j].item())\n",
    "    new_feature[atom_type] = 1\n",
    "    new_features[j] = new_feature   "
   ]
  },
  {
   "cell_type": "code",
   "execution_count": 11,
   "metadata": {},
   "outputs": [
    {
     "name": "stdout",
     "output_type": "stream",
     "text": [
      "tensor([[1., 0., 0., 0., 0., 0., 0., 0., 0., 0., 0., 0., 0., 0., 0., 0., 0., 0.,\n",
      "         0., 0., 0., 0., 0., 0., 0., 0., 0., 0.],\n",
      "        [0., 1., 0., 0., 0., 0., 0., 0., 0., 0., 0., 0., 0., 0., 0., 0., 0., 0.,\n",
      "         0., 0., 0., 0., 0., 0., 0., 0., 0., 0.],\n",
      "        [0., 1., 0., 0., 0., 0., 0., 0., 0., 0., 0., 0., 0., 0., 0., 0., 0., 0.,\n",
      "         0., 0., 0., 0., 0., 0., 0., 0., 0., 0.],\n",
      "        [1., 0., 0., 0., 0., 0., 0., 0., 0., 0., 0., 0., 0., 0., 0., 0., 0., 0.,\n",
      "         0., 0., 0., 0., 0., 0., 0., 0., 0., 0.],\n",
      "        [0., 0., 1., 0., 0., 0., 0., 0., 0., 0., 0., 0., 0., 0., 0., 0., 0., 0.,\n",
      "         0., 0., 0., 0., 0., 0., 0., 0., 0., 0.],\n",
      "        [1., 0., 0., 0., 0., 0., 0., 0., 0., 0., 0., 0., 0., 0., 0., 0., 0., 0.,\n",
      "         0., 0., 0., 0., 0., 0., 0., 0., 0., 0.],\n",
      "        [0., 1., 0., 0., 0., 0., 0., 0., 0., 0., 0., 0., 0., 0., 0., 0., 0., 0.,\n",
      "         0., 0., 0., 0., 0., 0., 0., 0., 0., 0.],\n",
      "        [0., 1., 0., 0., 0., 0., 0., 0., 0., 0., 0., 0., 0., 0., 0., 0., 0., 0.,\n",
      "         0., 0., 0., 0., 0., 0., 0., 0., 0., 0.],\n",
      "        [1., 0., 0., 0., 0., 0., 0., 0., 0., 0., 0., 0., 0., 0., 0., 0., 0., 0.,\n",
      "         0., 0., 0., 0., 0., 0., 0., 0., 0., 0.]])\n"
     ]
    }
   ],
   "source": [
    "print(new_features)"
   ]
  },
  {
   "cell_type": "code",
   "execution_count": null,
   "metadata": {},
   "outputs": [],
   "source": [
    "with open"
   ]
  }
 ],
 "metadata": {
  "kernelspec": {
   "display_name": "Python 3",
   "language": "python",
   "name": "python3"
  },
  "language_info": {
   "codemirror_mode": {
    "name": "ipython",
    "version": 3
   },
   "file_extension": ".py",
   "mimetype": "text/x-python",
   "name": "python",
   "nbconvert_exporter": "python",
   "pygments_lexer": "ipython3",
   "version": "3.7.6"
  }
 },
 "nbformat": 4,
 "nbformat_minor": 4
}
